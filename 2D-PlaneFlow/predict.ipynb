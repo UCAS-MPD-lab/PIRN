{
 "cells": [
  {
   "cell_type": "code",
   "execution_count": 2,
   "id": "b0ae2bf9-61e8-4c5d-990d-98d6cfd0711a",
   "metadata": {},
   "outputs": [],
   "source": [
    "from Networks.iResNet import iResNet2D\n",
    "from Trainers import split_data,Trainer\n",
    "import torch\n",
    "import torch.nn as nn\n",
    "import torch.optim as optim\n",
    "import numpy as np\n",
    "import matplotlib.pyplot as plt\n",
    "import joblib\n",
    "import matplotlib.colors as mcolors\n",
    "from matplotlib.colors import LinearSegmentedColormap\n",
    "from matplotlib.cm import jet"
   ]
  },
  {
   "cell_type": "code",
   "execution_count": 3,
   "id": "a600b4bf-8238-445c-9830-e8669f30b11a",
   "metadata": {},
   "outputs": [
    {
     "data": {
      "text/plain": [
       "iResNet2D(\n",
       "  (fc): Linear(in_features=1, out_features=131072, bias=True)\n",
       "  (bb_layers): ModuleList(\n",
       "    (0-1): 2 x ModuleList(\n",
       "      (0): Conv2d(128, 128, kernel_size=(3, 3), stride=(1, 1), padding=(1, 1))\n",
       "      (1): LeakyReLU(negative_slope=0.01)\n",
       "      (2): Conv2d(128, 128, kernel_size=(3, 3), stride=(1, 1), padding=(1, 1))\n",
       "      (3): LeakyReLU(negative_slope=0.01)\n",
       "    )\n",
       "  )\n",
       "  (final_convs): ModuleDict(\n",
       "    (u): Conv2d(128, 1, kernel_size=(3, 3), stride=(1, 1), padding=(1, 1))\n",
       "  )\n",
       ")"
      ]
     },
     "execution_count": 3,
     "metadata": {},
     "output_type": "execute_result"
    }
   ],
   "source": [
    "# 初始化模型\n",
    "input_shape = (1,)  # 输入形状\n",
    "full_connect_shape = (128, 64, 16)  # 全连接层目标形状，根据 true_output0 的形状确定\n",
    "q = 2  # BB 的数量\n",
    "N = 2  # 每个 BB 中 SB 的数量\n",
    "\n",
    "output_keys = [\"u\"]\n",
    "\n",
    "model = iResNet2D(input_shape, full_connect_shape, q, N, output_keys)\n",
    "\n",
    "# 加载训练好的权重\n",
    "model.load_state_dict(torch.load(\"model/PIRN001.pth\", weights_only=True))\n",
    "\n",
    "# 将模型设置为评估模式\n",
    "model.eval()"
   ]
  },
  {
   "cell_type": "code",
   "execution_count": 4,
   "id": "870ea6df-9531-41c0-aea0-04e6f56c0366",
   "metadata": {},
   "outputs": [],
   "source": [
    "# value set\n",
    "input_test = np.array([110])\n",
    "\n",
    "input_test_np = input_test.astype(np.float32)\n",
    "\n",
    "input_test_torch = torch.from_numpy(input_test_np)\n",
    "\n",
    "# 将数据移动到 GPU（如果可用）\n",
    "device = \"cpu\"\n",
    "model = model.to(device)\n",
    "input_test_torch = input_test_torch.to(device)"
   ]
  },
  {
   "cell_type": "code",
   "execution_count": 5,
   "id": "37b8aba5-f059-4abb-87d0-dedd7925266e",
   "metadata": {},
   "outputs": [],
   "source": [
    "# 进行预测\n",
    "with torch.no_grad():\n",
    "    u_pred = model(input_test_torch)\n",
    "\n",
    "\n",
    "u_pred = u_pred['u'].numpy().squeeze(0).squeeze(0).T\n"
   ]
  },
  {
   "cell_type": "code",
   "execution_count": 6,
   "id": "f61ae6df-6070-4a22-b4f1-4b29c093ee5a",
   "metadata": {},
   "outputs": [
    {
     "data": {
      "text/plain": [
       "(16, 64)"
      ]
     },
     "execution_count": 6,
     "metadata": {},
     "output_type": "execute_result"
    }
   ],
   "source": [
    "u_pred.shape"
   ]
  },
  {
   "cell_type": "code",
   "execution_count": 7,
   "id": "b6ce8178-b929-401d-8ee2-9e255059aec7",
   "metadata": {},
   "outputs": [],
   "source": [
    "x = np.linspace(0, 2, 64)\n",
    "y = np.linspace(-0.1, 0.1, 16)\n",
    "xx, yy = np.meshgrid(x, y)"
   ]
  },
  {
   "cell_type": "code",
   "execution_count": 8,
   "id": "e38666ee-7817-44a1-8236-f6caa8362376",
   "metadata": {},
   "outputs": [],
   "source": [
    "start = 0.05  # 起始位置（0表示最开始）\n",
    "stop = 0.95   # 结束位置（1表示最末尾）\n",
    "colors = jet(np.linspace(start, stop, 256))\n",
    "my_jet = LinearSegmentedColormap.from_list('part_jet', colors)"
   ]
  },
  {
   "cell_type": "code",
   "execution_count": 10,
   "id": "64b09ddd-c3e7-40ac-b928-934ea99189c7",
   "metadata": {},
   "outputs": [
    {
     "data": {
      "image/png": "[encoded data removed]",
      "text/plain": [
       "<Figure size 1000x400 with 2 Axes>"
      ]
     },
     "metadata": {},
     "output_type": "display_data"
    }
   ],
   "source": [
    "plt.figure(figsize=(10, 4))\n",
    "\n",
    "c = plt.contourf(xx, yy, u_pred, cmap=my_jet, levels=100)\n",
    "plt.colorbar(c)\n",
    "plt.axis('equal')\n",
    "plt.title('Re = 110')\n",
    "\n",
    "ax = plt.gca()\n",
    "ax.spines['top'].set_visible(False)\n",
    "ax.spines['right'].set_visible(False)\n",
    "ax.spines['left'].set_visible(False)\n",
    "ax.spines['bottom'].set_visible(False)\n",
    "# ax.set_xlim([0.8,1.2])\n",
    "ax.set_ylim([-0.1,0.1])\n",
    "# ax.set_xticks([0, 0.02, 0.04])\n",
    "# ax.set_yticks([0, 0.02, 0.04])\n",
    "plt.savefig('result/Re110_PIRN.png')"
   ]
  },
  {
   "cell_type": "code",
   "execution_count": 10,
   "id": "d9aada86-d2b1-4df3-a47d-6a79d925e6f9",
   "metadata": {},
   "outputs": [
    {
     "data": {
      "text/plain": [
       "8.260286"
      ]
     },
     "execution_count": 10,
     "metadata": {},
     "output_type": "execute_result"
    }
   ],
   "source": [
    "u_pred.max()"
   ]
  },
  {
   "cell_type": "code",
   "execution_count": null,
   "id": "39ac60b3-4432-4345-af56-dd798792d684",
   "metadata": {},
   "outputs": [],
   "source": []
  }
 ],
 "metadata": {
  "kernelspec": {
   "display_name": "Python 3 (ipykernel)",
   "language": "python",
   "name": "python3"
  },
  "language_info": {
   "codemirror_mode": {
    "name": "ipython",
    "version": 3
   },
   "file_extension": ".py",
   "mimetype": "text/x-python",
   "name": "python",
   "nbconvert_exporter": "python",
   "pygments_lexer": "ipython3",
   "version": "3.9.20"
  }
 },
 "nbformat": 4,
 "nbformat_minor": 5
}
