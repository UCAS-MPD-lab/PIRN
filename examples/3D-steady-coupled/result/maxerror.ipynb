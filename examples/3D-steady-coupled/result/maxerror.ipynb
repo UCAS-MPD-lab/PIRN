{
 "cells": [
  {
   "cell_type": "markdown",
   "id": "95349dfb-a038-4bd0-8f9f-18d3c045f4d9",
   "metadata": {},
   "source": [
    "| Case        | CFD result | PIRN result | max error PIRN | PIRN nonuni result | max error PIRN nonuni | \n",
    "| ----------- | ----------- | ----------- | ----------- | ----------- | ----------- |\n",
    "| Gr1e4 Ha1e2 | 1.4529e-5   | 1.4820e-5 | 2.00% | 1.4644e-5 | 0.79% | \n",
    "| Gr4e4 Ha4e2 | 1.6283e-5   | 1.8549e-5 | 13.92% | 1.5983e-5 | 1.84% |"
   ]
  },
  {
   "cell_type": "code",
   "execution_count": 1,
   "id": "c06f8c21-a870-4201-839f-a522ab1c463d",
   "metadata": {},
   "outputs": [],
   "source": [
    "import numpy as np\n",
    "def max_error(test, real):\n",
    "    return np.abs((test - real) / real)"
   ]
  },
  {
   "cell_type": "code",
   "execution_count": 8,
   "id": "ddcc83bb-b9ca-4d79-86e6-9026faab6752",
   "metadata": {},
   "outputs": [
    {
     "data": {
      "text/plain": [
       "0.018424123318798762"
      ]
     },
     "execution_count": 8,
     "metadata": {},
     "output_type": "execute_result"
    }
   ],
   "source": [
    "max_error(1.5983, 1.6283)"
   ]
  },
  {
   "cell_type": "code",
   "execution_count": null,
   "id": "54641d74-442b-4c53-bd70-44e88c3bf503",
   "metadata": {},
   "outputs": [],
   "source": []
  }
 ],
 "metadata": {
  "kernelspec": {
   "display_name": "Python 3 (ipykernel)",
   "language": "python",
   "name": "python3"
  },
  "language_info": {
   "codemirror_mode": {
    "name": "ipython",
    "version": 3
   },
   "file_extension": ".py",
   "mimetype": "text/x-python",
   "name": "python",
   "nbconvert_exporter": "python",
   "pygments_lexer": "ipython3",
   "version": "3.9.20"
  }
 },
 "nbformat": 4,
 "nbformat_minor": 5
}
