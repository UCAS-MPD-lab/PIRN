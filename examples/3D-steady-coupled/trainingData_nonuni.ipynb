{
 "cells": [
  {
   "cell_type": "code",
   "execution_count": 1,
   "id": "cf5b2038-8650-458a-81f5-674935a3aaa3",
   "metadata": {},
   "outputs": [],
   "source": [
    "import numpy as np\n",
    "import fluidfoam as ff\n",
    "import matplotlib.pyplot as plt\n",
    "from scipy import interpolate\n",
    "import joblib\n",
    "from tqdm.notebook import tqdm\n",
    "import time"
   ]
  },
  {
   "cell_type": "code",
   "execution_count": 2,
   "id": "c371a5cd-7d95-4d2b-85b2-87f10a0378ba",
   "metadata": {},
   "outputs": [],
   "source": [
    "rootPath = '/home/whw/OpenFOAM/whw-v2412/run/coupledCases/'\n",
    "\n",
    "Gr_all = [1e4, 2e4, 3e4, 4e4]\n",
    "Ha_all = [1e2, 2e2, 3e2, 4e2, 5e2]\n",
    "\n",
    "Gr_all_str = [f\"{x:.0e}\".replace(\"+0\", \"\").replace(\"+\", \"\") for x in Gr_all]\n",
    "Ha_all_str = [f\"{x:.0e}\".replace(\"+0\", \"\").replace(\"+\", \"\") for x in Ha_all]"
   ]
  },
  {
   "cell_type": "code",
   "execution_count": 3,
   "id": "772cf22f-f1c1-4f5b-8ce7-671d48193e81",
   "metadata": {
    "scrolled": true
   },
   "outputs": [
    {
     "name": "stdout",
     "output_type": "stream",
     "text": [
      "Reading file /home/whw/OpenFOAM/whw-v2412/run/coupledCases/Gr1e4,Ha1e2/constant/polyMesh/owner\n",
      "Reading file /home/whw/OpenFOAM/whw-v2412/run/coupledCases/Gr1e4,Ha1e2/constant/polyMesh/faces\n",
      "Reading file /home/whw/OpenFOAM/whw-v2412/run/coupledCases/Gr1e4,Ha1e2/constant/polyMesh/points\n",
      "Reading file /home/whw/OpenFOAM/whw-v2412/run/coupledCases/Gr1e4,Ha1e2/constant/polyMesh/neighbour\n"
     ]
    }
   ],
   "source": [
    "test_path = rootPath + 'Gr1e4,Ha1e2'\n",
    "x,y,z = ff.readof.readmesh(test_path)\n",
    "points_original = np.vstack((x, y, z)).T"
   ]
  },
  {
   "cell_type": "code",
   "execution_count": 4,
   "id": "e14c1135-5d3b-4584-8952-7b5ceef16e45",
   "metadata": {},
   "outputs": [],
   "source": [
    "def geometric_sum(a1, r, n):\n",
    "    \"\"\"\n",
    "    计算等比数列的和\n",
    "\n",
    "    参数:\n",
    "    a1 -- 首项\n",
    "    r -- 公比\n",
    "    n -- 项数\n",
    "\n",
    "    返回:\n",
    "    等比数列的和\n",
    "    \"\"\"\n",
    "    # 使用公式计算等比数列的和\n",
    "    if r == 1:\n",
    "        return a1 * n  # 当公比为1时，求和就是首项乘以项数\n",
    "    else:\n",
    "        return a1 * (1 - r**n) / (1 - r)"
   ]
  },
  {
   "cell_type": "code",
   "execution_count": 5,
   "id": "fddb1cd3-a41c-464e-ba0f-731475552ac9",
   "metadata": {},
   "outputs": [],
   "source": [
    "x_inter=[]\n",
    "y_inter=[]\n",
    "for i in range(16):\n",
    "    x_inter.append(geometric_sum(0.0008453981596,1.05,i))\n",
    "    y_inter.append(geometric_sum(0.0008453981596,1.05,i))\n",
    "\n",
    "for i in range(16):\n",
    "    x_inter.append(0.02+geometric_sum(0.001757522057,0.9523809523809523,i))\n",
    "    y_inter.append(0.02+geometric_sum(0.001757522057,0.9523809523809523,i))\n",
    "\n",
    "z_inter = np.linspace(0, 0.3, 16)\n",
    "\n",
    "X, Y, Z = np.meshgrid(x_inter, y_inter, z_inter)\n",
    "\n",
    "points_inter = np.vstack((X.ravel(), Y.ravel(), Z.ravel())).T"
   ]
  },
  {
   "cell_type": "code",
   "execution_count": 6,
   "id": "2cdfb999-a6b7-45c0-95ef-9bd13c09ad63",
   "metadata": {
    "scrolled": true
   },
   "outputs": [
    {
     "data": {
      "application/vnd.jupyter.widget-view+json": {
       "model_id": "ef6a3bb5e9a64b12aae83da4d9c675f0",
       "version_major": 2,
       "version_minor": 0
      },
      "text/plain": [
       "Outer loop:   0%|          | 0/4 [00:00<?, ?it/s]"
      ]
     },
     "metadata": {},
     "output_type": "display_data"
    },
    {
     "data": {
      "application/vnd.jupyter.widget-view+json": {
       "model_id": "",
       "version_major": 2,
       "version_minor": 0
      },
      "text/plain": [
       "Inner loop:   0%|          | 0/5 [00:00<?, ?it/s]"
      ]
     },
     "metadata": {},
     "output_type": "display_data"
    },
    {
     "name": "stdout",
     "output_type": "stream",
     "text": [
      "Reading file /home/whw/OpenFOAM/whw-v2412/run/coupledCases/Gr1e4,Ha1e2/1000/U\n",
      "Reading file /home/whw/OpenFOAM/whw-v2412/run/coupledCases/Gr1e4,Ha2e2/1000/U\n",
      "Reading file /home/whw/OpenFOAM/whw-v2412/run/coupledCases/Gr1e4,Ha3e2/1000/U\n",
      "Reading file /home/whw/OpenFOAM/whw-v2412/run/coupledCases/Gr1e4,Ha4e2/1000/U\n",
      "Reading file /home/whw/OpenFOAM/whw-v2412/run/coupledCases/Gr1e4,Ha5e2/1000/U\n"
     ]
    },
    {
     "data": {
      "application/vnd.jupyter.widget-view+json": {
       "model_id": "",
       "version_major": 2,
       "version_minor": 0
      },
      "text/plain": [
       "Inner loop:   0%|          | 0/5 [00:00<?, ?it/s]"
      ]
     },
     "metadata": {},
     "output_type": "display_data"
    },
    {
     "name": "stdout",
     "output_type": "stream",
     "text": [
      "Reading file /home/whw/OpenFOAM/whw-v2412/run/coupledCases/Gr2e4,Ha1e2/1000/U\n",
      "Reading file /home/whw/OpenFOAM/whw-v2412/run/coupledCases/Gr2e4,Ha2e2/1000/U\n",
      "Reading file /home/whw/OpenFOAM/whw-v2412/run/coupledCases/Gr2e4,Ha3e2/1000/U\n",
      "Reading file /home/whw/OpenFOAM/whw-v2412/run/coupledCases/Gr2e4,Ha4e2/1000/U\n",
      "Reading file /home/whw/OpenFOAM/whw-v2412/run/coupledCases/Gr2e4,Ha5e2/1000/U\n"
     ]
    },
    {
     "data": {
      "application/vnd.jupyter.widget-view+json": {
       "model_id": "",
       "version_major": 2,
       "version_minor": 0
      },
      "text/plain": [
       "Inner loop:   0%|          | 0/5 [00:00<?, ?it/s]"
      ]
     },
     "metadata": {},
     "output_type": "display_data"
    },
    {
     "name": "stdout",
     "output_type": "stream",
     "text": [
      "Reading file /home/whw/OpenFOAM/whw-v2412/run/coupledCases/Gr3e4,Ha1e2/1000/U\n",
      "Reading file /home/whw/OpenFOAM/whw-v2412/run/coupledCases/Gr3e4,Ha2e2/1000/U\n",
      "Reading file /home/whw/OpenFOAM/whw-v2412/run/coupledCases/Gr3e4,Ha3e2/1000/U\n",
      "Reading file /home/whw/OpenFOAM/whw-v2412/run/coupledCases/Gr3e4,Ha4e2/1000/U\n",
      "Reading file /home/whw/OpenFOAM/whw-v2412/run/coupledCases/Gr3e4,Ha5e2/1000/U\n"
     ]
    },
    {
     "data": {
      "application/vnd.jupyter.widget-view+json": {
       "model_id": "",
       "version_major": 2,
       "version_minor": 0
      },
      "text/plain": [
       "Inner loop:   0%|          | 0/5 [00:00<?, ?it/s]"
      ]
     },
     "metadata": {},
     "output_type": "display_data"
    },
    {
     "name": "stdout",
     "output_type": "stream",
     "text": [
      "Reading file /home/whw/OpenFOAM/whw-v2412/run/coupledCases/Gr4e4,Ha1e2/1000/U\n",
      "Reading file /home/whw/OpenFOAM/whw-v2412/run/coupledCases/Gr4e4,Ha2e2/1000/U\n",
      "Reading file /home/whw/OpenFOAM/whw-v2412/run/coupledCases/Gr4e4,Ha3e2/1000/U\n",
      "Reading file /home/whw/OpenFOAM/whw-v2412/run/coupledCases/Gr4e4,Ha4e2/1000/U\n",
      "Reading file /home/whw/OpenFOAM/whw-v2412/run/coupledCases/Gr4e4,Ha5e2/1000/U\n"
     ]
    }
   ],
   "source": [
    "label = []\n",
    "w_all = []\n",
    "T_all = []\n",
    "\n",
    "for i,Gr in tqdm(enumerate(Gr_all), desc=\"Outer loop\", position=0, total=len(Gr_all)):\n",
    "    for j,Ha in tqdm(enumerate(Ha_all), desc=\"Inner loop\", position=1, total=len(Ha_all), leave=False):\n",
    "        label.append('Gr' + str(Gr) + ',Ha' + str(Ha))\n",
    "        current_path = rootPath + 'Gr' + Gr_all_str[i] + ',Ha' + Ha_all_str[j]\n",
    "        w_original = ff.readof.readfield(current_path,'1000','U')[2]\n",
    "        T_original = ff.readof.readfield(current_path,'1000','T', verbose=False)\n",
    "\n",
    "        Interp_w = interpolate.NearestNDInterpolator(points_original, w_original)\n",
    "        Interp_T = interpolate.NearestNDInterpolator(points_original, T_original)\n",
    "\n",
    "        w_inter = Interp_w(points_inter)\n",
    "        T_inter = Interp_T(points_inter)\n",
    "\n",
    "        w_inter = 1e5 * w_inter\n",
    "        T_inter = 1e3 * (T_inter - 723.15)\n",
    "\n",
    "        w_all.append(w_inter.reshape(X.shape))\n",
    "        T_all.append(T_inter.reshape(X.shape))\n",
    "\n",
    "        "
   ]
  },
  {
   "cell_type": "code",
   "execution_count": 37,
   "id": "fc4270f4-6c47-49f6-9321-15b164de49f0",
   "metadata": {},
   "outputs": [
    {
     "data": {
      "text/plain": [
       "5.8013336"
      ]
     },
     "execution_count": 37,
     "metadata": {},
     "output_type": "execute_result"
    }
   ],
   "source": [
    "w_all[15][:,:,8].max()"
   ]
  },
  {
   "cell_type": "code",
   "execution_count": 8,
   "id": "448d85a7-8163-4117-89a4-527f913039e1",
   "metadata": {
    "scrolled": true
   },
   "outputs": [],
   "source": [
    "w_all = np.array(w_all)\n",
    "\n",
    "T_all = np.array(T_all)"
   ]
  },
  {
   "cell_type": "code",
   "execution_count": 9,
   "id": "9a42c31f-6ef7-4912-b56b-6878aefb5020",
   "metadata": {},
   "outputs": [],
   "source": [
    "input_all = []\n",
    "for Gr in Gr_all:\n",
    "    for Ha in Ha_all:\n",
    "        input_all.append(np.array([Gr/1e4, Ha/1e2]))\n",
    "input_all = np.array(input_all)"
   ]
  },
  {
   "cell_type": "code",
   "execution_count": 10,
   "id": "42fb60d0-724d-4671-8740-9725ecc4325b",
   "metadata": {},
   "outputs": [
    {
     "data": {
      "text/plain": [
       "['preData/nonuni/label']"
      ]
     },
     "execution_count": 10,
     "metadata": {},
     "output_type": "execute_result"
    }
   ],
   "source": [
    "\n",
    "joblib.dump(input_all, 'preData/nonuni/input_all.joblib')\n",
    "joblib.dump(w_all, 'preData/nonuni/w_train.joblib')\n",
    "joblib.dump(T_all, 'preData/nonuni/T_train.joblib')\n",
    "joblib.dump(label, 'preData/nonuni/label')"
   ]
  },
  {
   "cell_type": "code",
   "execution_count": null,
   "id": "011b65d5-0736-45ae-973f-77e628d67a4a",
   "metadata": {},
   "outputs": [],
   "source": []
  }
 ],
 "metadata": {
  "kernelspec": {
   "display_name": "Python 3 (ipykernel)",
   "language": "python",
   "name": "python3"
  },
  "language_info": {
   "codemirror_mode": {
    "name": "ipython",
    "version": 3
   },
   "file_extension": ".py",
   "mimetype": "text/x-python",
   "name": "python",
   "nbconvert_exporter": "python",
   "pygments_lexer": "ipython3",
   "version": "3.9.20"
  }
 },
 "nbformat": 4,
 "nbformat_minor": 5
}
