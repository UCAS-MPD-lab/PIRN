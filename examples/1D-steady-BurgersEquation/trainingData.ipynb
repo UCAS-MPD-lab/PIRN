{
 "cells": [
  {
   "cell_type": "code",
   "execution_count": 1,
   "id": "3895aa82-570b-4f14-bd40-50e243f86598",
   "metadata": {},
   "outputs": [],
   "source": [
    "import numpy as np\n",
    "import matplotlib.pyplot as plt\n",
    "import joblib"
   ]
  },
  {
   "cell_type": "markdown",
   "id": "dd2e5df7-5447-4027-9c58-9777f9c17607",
   "metadata": {},
   "source": [
    "$$u\\frac{d\\phi}{dx}=\\alpha\\frac{d^2\\phi}{dx^2}$$\n",
    "\n",
    "$$\\phi(0)=1$$\n",
    "$$\\phi(1)=e$$\n",
    "\n",
    "Solution:\n",
    "$$\\phi=e^{\\frac{u}{\\alpha}x}$$"
   ]
  },
  {
   "cell_type": "code",
   "execution_count": 9,
   "id": "6a5978eb-0156-4a06-8c4e-2a8a5874e8ce",
   "metadata": {},
   "outputs": [],
   "source": [
    "u = np.linspace(0.1, 1.0, 50)\n",
    "alpha = 1\n",
    "\n",
    "x = np.linspace(0, 1, 128)\n",
    "\n",
    "T = []\n",
    "\n",
    "for uu in u:\n",
    "    TT = np.exp(uu/alpha*x)\n",
    "    T.append(TT)\n",
    "\n",
    "T = np.array(T)"
   ]
  },
  {
   "cell_type": "code",
   "execution_count": 8,
   "id": "0b0da228-c365-4b78-a849-71f001ba684a",
   "metadata": {},
   "outputs": [
    {
     "data": {
      "text/plain": [
       "['T_train']"
      ]
     },
     "execution_count": 8,
     "metadata": {},
     "output_type": "execute_result"
    }
   ],
   "source": [
    "joblib.dump(u, 'u_train')\n",
    "joblib.dump(T, 'T_train')"
   ]
  },
  {
   "cell_type": "code",
   "execution_count": 10,
   "id": "dace25fd-8ba4-46e1-9fcb-cfc1db55394f",
   "metadata": {},
   "outputs": [
    {
     "name": "stdout",
     "output_type": "stream",
     "text": [
      "[0.1        0.11836735 0.13673469 0.15510204 0.17346939 0.19183673\n",
      " 0.21020408 0.22857143 0.24693878 0.26530612 0.28367347 0.30204082\n",
      " 0.32040816 0.33877551 0.35714286 0.3755102  0.39387755 0.4122449\n",
      " 0.43061224 0.44897959 0.46734694 0.48571429 0.50408163 0.52244898\n",
      " 0.54081633 0.55918367 0.57755102 0.59591837 0.61428571 0.63265306\n",
      " 0.65102041 0.66938776 0.6877551  0.70612245 0.7244898  0.74285714\n",
      " 0.76122449 0.77959184 0.79795918 0.81632653 0.83469388 0.85306122\n",
      " 0.87142857 0.88979592 0.90816327 0.92653061 0.94489796 0.96326531\n",
      " 0.98163265 1.        ]\n"
     ]
    }
   ],
   "source": [
    "print(u)"
   ]
  },
  {
   "cell_type": "code",
   "execution_count": null,
   "id": "65318f49-83fb-4af7-adc5-0636d33d643e",
   "metadata": {},
   "outputs": [],
   "source": []
  }
 ],
 "metadata": {
  "kernelspec": {
   "display_name": "Python 3 (ipykernel)",
   "language": "python",
   "name": "python3"
  },
  "language_info": {
   "codemirror_mode": {
    "name": "ipython",
    "version": 3
   },
   "file_extension": ".py",
   "mimetype": "text/x-python",
   "name": "python",
   "nbconvert_exporter": "python",
   "pygments_lexer": "ipython3",
   "version": "3.9.20"
  }
 },
 "nbformat": 4,
 "nbformat_minor": 5
}
