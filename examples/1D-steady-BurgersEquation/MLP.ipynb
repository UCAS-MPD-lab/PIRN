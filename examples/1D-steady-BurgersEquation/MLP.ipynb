{
 "cells": [
  {
   "cell_type": "code",
   "execution_count": 2,
   "id": "c0275341-ad74-4af1-bcd5-b189db22d23b",
   "metadata": {},
   "outputs": [],
   "source": [
    "from Networks import MLP_Dict\n",
    "from Trainers import split_data,Trainer\n",
    "import torch\n",
    "import torch.nn as nn\n",
    "import torch.optim as optim\n",
    "import numpy as np\n",
    "import joblib"
   ]
  },
  {
   "cell_type": "code",
   "execution_count": 4,
   "id": "c79406ac-697c-4519-9c87-040dca2feb13",
   "metadata": {
    "scrolled": true
   },
   "outputs": [],
   "source": [
    "# 初始化模型\n",
    "input_shape = (1,)  # 输入形状\n",
    "output_shape = (1,)\n",
    "\n",
    "model = MLP_Dict(input_shape, output_shape, hidden_layers=[64, 64, 64, 64, 64, 64, 64], activation_function='tanh', output_keys=['T'])\n",
    "\n",
    "# # 打印模型结构\n",
    "# print(model)"
   ]
  },
  {
   "cell_type": "code",
   "execution_count": 5,
   "id": "c4cb7162-ac4d-453d-bc1e-fed12a2bd4e1",
   "metadata": {},
   "outputs": [],
   "source": [
    "# 定义损失函数和优化器\n",
    "criterions = {\"T\":nn.MSELoss()}\n",
    "optimizer = optim.Adam(model.parameters(), lr=0.0001)"
   ]
  },
  {
   "cell_type": "code",
   "execution_count": 6,
   "id": "b14aeae5-0601-4c75-810d-576868a6354e",
   "metadata": {},
   "outputs": [],
   "source": [
    "# 加载数据\n",
    "u_train_np = joblib.load('u_train').astype(np.float32)\n",
    "T_train_np = joblib.load('T_train').astype(np.float32)\n",
    "\n",
    "u_train = torch.from_numpy(u_train_np).unsqueeze(1)\n",
    "T_train = torch.from_numpy(T_train_np).unsqueeze(1).unsqueeze(1)\n",
    "\n",
    "T_train = {\"T\": T_train}"
   ]
  },
  {
   "cell_type": "code",
   "execution_count": 12,
   "id": "021a15c1-81bf-4b55-a021-27631886266d",
   "metadata": {},
   "outputs": [
    {
     "data": {
      "text/plain": [
       "torch.Size([50, 1, 1, 128])"
      ]
     },
     "execution_count": 12,
     "metadata": {},
     "output_type": "execute_result"
    }
   ],
   "source": [
    "T_train['T'].shape"
   ]
  },
  {
   "cell_type": "code",
   "execution_count": 7,
   "id": "a10ba6fa-27e7-469e-94e0-91e593440663",
   "metadata": {
    "scrolled": true
   },
   "outputs": [],
   "source": [
    "# 导入数据\n",
    "train_loader, val_loader = split_data(u_train, T_train, batch_size=50)\n",
    "trainer = Trainer(model, optimizer, criterions, device=\"cuda\")"
   ]
  },
  {
   "cell_type": "code",
   "execution_count": 8,
   "id": "f553f496-93d5-4959-82c3-f12287219eba",
   "metadata": {
    "scrolled": true
   },
   "outputs": [
    {
     "data": {
      "application/vnd.jupyter.widget-view+json": {
       "model_id": "52c44ca77efa4dd0ad10de8c501f4a40",
       "version_major": 2,
       "version_minor": 0
      },
      "text/plain": [
       "Training:   0%|          | 0/50 [00:00<?, ?it/s]"
      ]
     },
     "metadata": {},
     "output_type": "display_data"
    },
    {
     "name": "stderr",
     "output_type": "stream",
     "text": [
      "/home/whw/miniconda3/envs/jupyter_env/lib/python3.9/site-packages/torch/nn/modules/loss.py:538: UserWarning: Using a target size (torch.Size([40, 1, 1, 128])) that is different to the input size (torch.Size([40, 1])). This will likely lead to incorrect results due to broadcasting. Please ensure they have the same size.\n",
      "  return F.mse_loss(input, target, reduction=self.reduction)\n",
      "/home/whw/miniconda3/envs/jupyter_env/lib/python3.9/site-packages/torch/nn/modules/loss.py:538: UserWarning: Using a target size (torch.Size([10, 1, 1, 128])) that is different to the input size (torch.Size([10, 1])). This will likely lead to incorrect results due to broadcasting. Please ensure they have the same size.\n",
      "  return F.mse_loss(input, target, reduction=self.reduction)\n"
     ]
    },
    {
     "name": "stdout",
     "output_type": "stream",
     "text": [
      "Epoch 1/50 | Train Loss: 2.1099 | Val Loss: 1.9426\n",
      "Epoch 2/50 | Train Loss: 2.0853 | Val Loss: 1.9189\n",
      "Epoch 3/50 | Train Loss: 2.0608 | Val Loss: 1.8953\n",
      "Epoch 4/50 | Train Loss: 2.0363 | Val Loss: 1.8717\n",
      "Epoch 5/50 | Train Loss: 2.0118 | Val Loss: 1.8481\n",
      "Epoch 6/50 | Train Loss: 1.9872 | Val Loss: 1.8244\n",
      "Epoch 7/50 | Train Loss: 1.9626 | Val Loss: 1.8007\n",
      "Epoch 8/50 | Train Loss: 1.9379 | Val Loss: 1.7768\n",
      "Epoch 9/50 | Train Loss: 1.9131 | Val Loss: 1.7528\n",
      "Epoch 10/50 | Train Loss: 1.8881 | Val Loss: 1.7288\n",
      "Epoch 11/50 | Train Loss: 1.8631 | Val Loss: 1.7045\n",
      "Epoch 12/50 | Train Loss: 1.8379 | Val Loss: 1.6802\n",
      "Epoch 13/50 | Train Loss: 1.8125 | Val Loss: 1.6556\n",
      "Epoch 14/50 | Train Loss: 1.7869 | Val Loss: 1.6308\n",
      "Epoch 15/50 | Train Loss: 1.7611 | Val Loss: 1.6059\n",
      "Epoch 16/50 | Train Loss: 1.7351 | Val Loss: 1.5806\n",
      "Epoch 17/50 | Train Loss: 1.7088 | Val Loss: 1.5552\n",
      "Epoch 18/50 | Train Loss: 1.6822 | Val Loss: 1.5294\n",
      "Epoch 19/50 | Train Loss: 1.6553 | Val Loss: 1.5034\n",
      "Epoch 20/50 | Train Loss: 1.6282 | Val Loss: 1.4771\n",
      "Epoch 21/50 | Train Loss: 1.6007 | Val Loss: 1.4504\n",
      "Epoch 22/50 | Train Loss: 1.5728 | Val Loss: 1.4234\n",
      "Epoch 23/50 | Train Loss: 1.5446 | Val Loss: 1.3961\n",
      "Epoch 24/50 | Train Loss: 1.5160 | Val Loss: 1.3684\n",
      "Epoch 25/50 | Train Loss: 1.4871 | Val Loss: 1.3403\n",
      "Epoch 26/50 | Train Loss: 1.4577 | Val Loss: 1.3119\n",
      "Epoch 27/50 | Train Loss: 1.4280 | Val Loss: 1.2831\n",
      "Epoch 28/50 | Train Loss: 1.3978 | Val Loss: 1.2539\n",
      "Epoch 29/50 | Train Loss: 1.3673 | Val Loss: 1.2243\n",
      "Epoch 30/50 | Train Loss: 1.3363 | Val Loss: 1.1944\n",
      "Epoch 31/50 | Train Loss: 1.3049 | Val Loss: 1.1641\n",
      "Epoch 32/50 | Train Loss: 1.2731 | Val Loss: 1.1334\n",
      "Epoch 33/50 | Train Loss: 1.2410 | Val Loss: 1.1024\n",
      "Epoch 34/50 | Train Loss: 1.2085 | Val Loss: 1.0711\n",
      "Epoch 35/50 | Train Loss: 1.1756 | Val Loss: 1.0394\n",
      "Epoch 36/50 | Train Loss: 1.1423 | Val Loss: 1.0075\n",
      "Epoch 37/50 | Train Loss: 1.1088 | Val Loss: 0.9753\n",
      "Epoch 38/50 | Train Loss: 1.0749 | Val Loss: 0.9429\n",
      "Epoch 39/50 | Train Loss: 1.0408 | Val Loss: 0.9103\n",
      "Epoch 40/50 | Train Loss: 1.0065 | Val Loss: 0.8775\n",
      "Epoch 41/50 | Train Loss: 0.9720 | Val Loss: 0.8446\n",
      "Epoch 42/50 | Train Loss: 0.9373 | Val Loss: 0.8117\n",
      "Epoch 43/50 | Train Loss: 0.9026 | Val Loss: 0.7787\n",
      "Epoch 44/50 | Train Loss: 0.8678 | Val Loss: 0.7458\n",
      "Epoch 45/50 | Train Loss: 0.8330 | Val Loss: 0.7130\n",
      "Epoch 46/50 | Train Loss: 0.7983 | Val Loss: 0.6804\n",
      "Epoch 47/50 | Train Loss: 0.7637 | Val Loss: 0.6480\n",
      "Epoch 48/50 | Train Loss: 0.7294 | Val Loss: 0.6159\n",
      "Epoch 49/50 | Train Loss: 0.6953 | Val Loss: 0.5841\n",
      "Epoch 50/50 | Train Loss: 0.6616 | Val Loss: 0.5528\n"
     ]
    }
   ],
   "source": [
    "# 训练\n",
    "trainer.fit(train_loader, val_loader, num_epochs=50, early_stop_patience=100, save_path=\"model/MLP.pth\")"
   ]
  },
  {
   "cell_type": "code",
   "execution_count": null,
   "id": "a1c92042-f80f-4088-8bed-4417b2a0abd2",
   "metadata": {},
   "outputs": [],
   "source": [
    "# 初始化模型\n",
    "model = iResNet(input_shape, full_connect_shape, q, N, [\"T\"])\n",
    "model.load_state_dict(torch.load(\"test.pth\", weights_only=True))\n",
    "# 将模型移动到设备\n",
    "device = torch.device(\"cuda\" if torch.cuda.is_available() else \"cpu\")\n",
    "model.to(device)"
   ]
  },
  {
   "cell_type": "code",
   "execution_count": null,
   "id": "fc098ba8-ff79-4ab5-b10f-55716c29e29a",
   "metadata": {},
   "outputs": [],
   "source": []
  }
 ],
 "metadata": {
  "kernelspec": {
   "display_name": "Python 3 (ipykernel)",
   "language": "python",
   "name": "python3"
  },
  "language_info": {
   "codemirror_mode": {
    "name": "ipython",
    "version": 3
   },
   "file_extension": ".py",
   "mimetype": "text/x-python",
   "name": "python",
   "nbconvert_exporter": "python",
   "pygments_lexer": "ipython3",
   "version": "3.9.20"
  }
 },
 "nbformat": 4,
 "nbformat_minor": 5
}
