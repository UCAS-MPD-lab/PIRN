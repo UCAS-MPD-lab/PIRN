{
 "cells": [
  {
   "cell_type": "code",
   "execution_count": 7,
   "id": "bd07c460-5a4c-45b8-a15f-8f80c0819232",
   "metadata": {},
   "outputs": [],
   "source": [
    "from Networks import MLP\n",
    "from Trainers import Burges_1D_Trainer\n",
    "import torch\n",
    "import torch.nn as nn\n",
    "import torch.optim as optim\n",
    "import numpy as np"
   ]
  },
  {
   "cell_type": "code",
   "execution_count": 8,
   "id": "db17e62c-9fc7-469d-a0f0-fc0092696da8",
   "metadata": {},
   "outputs": [],
   "source": [
    "# 初始化模型\n",
    "input_shape = (1,)  # 输入形状\n",
    "output_shape = (1,)\n",
    "\n",
    "model = MLP(input_shape, output_shape, hidden_layers=[64, 64, 64, 64, 64, 64, 64], activation_function=\"tanh\")"
   ]
  },
  {
   "cell_type": "code",
   "execution_count": 9,
   "id": "f0f2a547-197e-4547-833b-a42d96447ab8",
   "metadata": {},
   "outputs": [],
   "source": [
    "u = 1\n",
    "alpha = 1 \n",
    "optimizer = optim.Adam(model.parameters(), lr=1e-3)\n",
    "\n",
    "trainer = Burges_1D_Trainer(model, u, alpha, optimizer, lambda_pde=1e-3, device='cuda')"
   ]
  },
  {
   "cell_type": "code",
   "execution_count": 10,
   "id": "f2c69b99-7531-4c54-94c7-faec585ab85e",
   "metadata": {},
   "outputs": [],
   "source": [
    "# 构造 collocation 点（用于计算 PDE 残差）\n",
    "N_collocation = 1000\n",
    "# 在区间 [0, 1] 上均匀采样\n",
    "x_collocation = torch.linspace(0, 1, N_collocation).view(-1, 1)\n",
    "\n",
    "# 定义边界点和边界条件（这里假设 phi(0)=0, phi(1)=e，可根据问题实际设置）\n",
    "x_boundary = torch.tensor([[0.0], [1.0]])\n",
    "phi_boundary = torch.tensor([[1.0], [np.e]])"
   ]
  },
  {
   "cell_type": "code",
   "execution_count": 11,
   "id": "84c674d8-fbe1-43e2-b1e0-2dd4bbed374f",
   "metadata": {
    "scrolled": true
   },
   "outputs": [
    {
     "data": {
      "application/vnd.jupyter.widget-view+json": {
       "model_id": "96f81c650b794c7e8b582ed334ee4fff",
       "version_major": 2,
       "version_minor": 0
      },
      "text/plain": [
       "Training Progress:   0%|          | 0/5000 [00:00<?, ?it/s]"
      ]
     },
     "metadata": {},
     "output_type": "display_data"
    },
    {
     "name": "stdout",
     "output_type": "stream",
     "text": [
      "Epoch 1/5000, Total Loss: 4.7731e+00 | PDE Loss: 1.3531e-05 | BC Loss: 4.7731e+00\n",
      "Epoch 101/5000, Total Loss: 8.3922e-03 | PDE Loss: 8.3855e+00 | BC Loss: 6.6492e-06\n",
      "Epoch 201/5000, Total Loss: 3.5086e-03 | PDE Loss: 3.4234e+00 | BC Loss: 8.5192e-05\n",
      "Epoch 301/5000, Total Loss: 1.4871e-03 | PDE Loss: 1.4586e+00 | BC Loss: 2.8508e-05\n",
      "Epoch 401/5000, Total Loss: 7.0283e-04 | PDE Loss: 6.8868e-01 | BC Loss: 1.4152e-05\n",
      "Epoch 501/5000, Total Loss: 2.4921e-03 | PDE Loss: 3.8400e-01 | BC Loss: 2.1081e-03\n",
      "Epoch 601/5000, Total Loss: 3.1649e-04 | PDE Loss: 3.1498e-01 | BC Loss: 1.5083e-06\n",
      "Epoch 701/5000, Total Loss: 2.3389e-04 | PDE Loss: 2.3315e-01 | BC Loss: 7.3961e-07\n",
      "Epoch 801/5000, Total Loss: 2.2705e-04 | PDE Loss: 2.2446e-01 | BC Loss: 2.5953e-06\n",
      "Epoch 901/5000, Total Loss: 1.6554e-04 | PDE Loss: 1.6513e-01 | BC Loss: 4.0878e-07\n",
      "Epoch 1001/5000, Total Loss: 1.2440e-04 | PDE Loss: 1.2416e-01 | BC Loss: 2.3188e-07\n",
      "Epoch 1101/5000, Total Loss: 9.4500e-04 | PDE Loss: 1.1853e-01 | BC Loss: 8.2647e-04\n",
      "Epoch 1201/5000, Total Loss: 9.2691e-05 | PDE Loss: 9.2419e-02 | BC Loss: 2.7194e-07\n",
      "Epoch 1301/5000, Total Loss: 6.6264e-05 | PDE Loss: 6.6173e-02 | BC Loss: 9.0677e-08\n",
      "Epoch 1401/5000, Total Loss: 4.7469e-05 | PDE Loss: 4.7417e-02 | BC Loss: 5.1610e-08\n",
      "Epoch 1501/5000, Total Loss: 7.6865e-04 | PDE Loss: 5.2475e-02 | BC Loss: 7.1617e-04\n",
      "Epoch 1601/5000, Total Loss: 3.4785e-05 | PDE Loss: 3.4696e-02 | BC Loss: 8.8322e-08\n",
      "Epoch 1701/5000, Total Loss: 2.2836e-05 | PDE Loss: 2.2815e-02 | BC Loss: 2.1375e-08\n",
      "Epoch 1801/5000, Total Loss: 1.5138e-05 | PDE Loss: 1.5126e-02 | BC Loss: 1.1771e-08\n",
      "Epoch 1901/5000, Total Loss: 2.4835e-05 | PDE Loss: 1.0028e-02 | BC Loss: 1.4806e-05\n",
      "Epoch 2001/5000, Total Loss: 1.4987e-05 | PDE Loss: 1.4262e-02 | BC Loss: 7.2465e-07\n",
      "Epoch 2101/5000, Total Loss: 9.1056e-06 | PDE Loss: 9.0983e-03 | BC Loss: 7.2710e-09\n",
      "Epoch 2201/5000, Total Loss: 6.4351e-06 | PDE Loss: 6.4310e-03 | BC Loss: 4.0826e-09\n",
      "Epoch 2301/5000, Total Loss: 4.9488e-06 | PDE Loss: 4.9464e-03 | BC Loss: 2.3623e-09\n",
      "Epoch 2401/5000, Total Loss: 2.1976e-04 | PDE Loss: 1.3136e-02 | BC Loss: 2.0662e-04\n",
      "Epoch 2501/5000, Total Loss: 7.9280e-06 | PDE Loss: 7.9144e-03 | BC Loss: 1.3581e-08\n",
      "Epoch 2601/5000, Total Loss: 6.1570e-06 | PDE Loss: 6.1539e-03 | BC Loss: 3.0740e-09\n",
      "Epoch 2701/5000, Total Loss: 5.0672e-06 | PDE Loss: 5.0652e-03 | BC Loss: 1.9808e-09\n",
      "Epoch 2801/5000, Total Loss: 8.6748e-03 | PDE Loss: 6.4300e-03 | BC Loss: 8.6684e-03\n",
      "Epoch 2901/5000, Total Loss: 9.5817e-06 | PDE Loss: 9.4503e-03 | BC Loss: 1.3142e-07\n",
      "Epoch 3001/5000, Total Loss: 6.8775e-06 | PDE Loss: 6.8741e-03 | BC Loss: 3.3769e-09\n",
      "Epoch 3101/5000, Total Loss: 5.3688e-06 | PDE Loss: 5.3667e-03 | BC Loss: 2.0014e-09\n",
      "Epoch 3201/5000, Total Loss: 6.7946e-06 | PDE Loss: 4.3325e-03 | BC Loss: 2.4621e-06\n",
      "Epoch 3301/5000, Total Loss: 1.1533e-05 | PDE Loss: 1.0892e-02 | BC Loss: 6.4128e-07\n",
      "Epoch 3401/5000, Total Loss: 7.0640e-06 | PDE Loss: 7.0605e-03 | BC Loss: 3.5016e-09\n",
      "Epoch 3501/5000, Total Loss: 5.2135e-06 | PDE Loss: 5.2117e-03 | BC Loss: 1.8829e-09\n",
      "Epoch 3601/5000, Total Loss: 4.1444e-06 | PDE Loss: 4.1431e-03 | BC Loss: 1.2911e-09\n",
      "Epoch 3701/5000, Total Loss: 2.4835e-05 | PDE Loss: 1.4874e-02 | BC Loss: 9.9602e-06\n",
      "Epoch 3801/5000, Total Loss: 7.7545e-06 | PDE Loss: 7.7502e-03 | BC Loss: 4.3111e-09\n",
      "Epoch 3901/5000, Total Loss: 5.3438e-06 | PDE Loss: 5.3419e-03 | BC Loss: 1.8634e-09\n",
      "Epoch 4001/5000, Total Loss: 4.2130e-06 | PDE Loss: 4.2120e-03 | BC Loss: 9.8277e-10\n",
      "Epoch 4101/5000, Total Loss: 3.6602e-06 | PDE Loss: 3.5640e-03 | BC Loss: 9.6283e-08\n",
      "Epoch 4201/5000, Total Loss: 1.3500e-05 | PDE Loss: 1.2356e-02 | BC Loss: 1.1443e-06\n",
      "Epoch 4301/5000, Total Loss: 6.2689e-06 | PDE Loss: 6.2663e-03 | BC Loss: 2.5932e-09\n",
      "Epoch 4401/5000, Total Loss: 4.5784e-06 | PDE Loss: 4.5774e-03 | BC Loss: 1.0472e-09\n",
      "Epoch 4501/5000, Total Loss: 3.7250e-06 | PDE Loss: 3.7245e-03 | BC Loss: 5.2393e-10\n",
      "Epoch 4601/5000, Total Loss: 8.6432e-06 | PDE Loss: 3.1261e-03 | BC Loss: 5.5171e-06\n",
      "Epoch 4701/5000, Total Loss: 7.6028e-06 | PDE Loss: 7.1311e-03 | BC Loss: 4.7173e-07\n",
      "Epoch 4801/5000, Total Loss: 4.1930e-06 | PDE Loss: 4.1919e-03 | BC Loss: 1.0511e-09\n",
      "Epoch 4901/5000, Total Loss: 3.1282e-06 | PDE Loss: 3.1277e-03 | BC Loss: 4.7103e-10\n"
     ]
    }
   ],
   "source": [
    "# 开始训练\n",
    "trainer.train(x_collocation, x_boundary, phi_boundary, epochs=5000, save_path='trained_model/pinn.pth')"
   ]
  },
  {
   "cell_type": "code",
   "execution_count": 12,
   "id": "a0ffcb03-8a98-4547-84ff-1a9e26f3c6a8",
   "metadata": {},
   "outputs": [
    {
     "data": {
      "image/png": "[encoded data removed]",
      "text/plain": [
       "<Figure size 1000x500 with 1 Axes>"
      ]
     },
     "metadata": {},
     "output_type": "display_data"
    }
   ],
   "source": [
    "trainer.plot_loss()"
   ]
  },
  {
   "cell_type": "code",
   "execution_count": null,
   "id": "9c0decce-1648-4858-96e8-8b0f47b282a8",
   "metadata": {},
   "outputs": [],
   "source": []
  }
 ],
 "metadata": {
  "kernelspec": {
   "display_name": "Python 3 (ipykernel)",
   "language": "python",
   "name": "python3"
  },
  "language_info": {
   "codemirror_mode": {
    "name": "ipython",
    "version": 3
   },
   "file_extension": ".py",
   "mimetype": "text/x-python",
   "name": "python",
   "nbconvert_exporter": "python",
   "pygments_lexer": "ipython3",
   "version": "3.9.20"
  }
 },
 "nbformat": 4,
 "nbformat_minor": 5
}
