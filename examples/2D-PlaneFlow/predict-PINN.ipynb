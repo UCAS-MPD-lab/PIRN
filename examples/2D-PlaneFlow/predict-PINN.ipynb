{
 "cells": [
  {
   "cell_type": "code",
   "execution_count": 37,
   "id": "b0ae2bf9-61e8-4c5d-990d-98d6cfd0711a",
   "metadata": {},
   "outputs": [],
   "source": [
    "from Networks import MLP2\n",
    "from Trainers import NavierStokes_2D_Trainer\n",
    "import torch\n",
    "import torch.nn as nn\n",
    "import torch.nn.functional as F\n",
    "import torch.optim as optim\n",
    "import numpy as np\n",
    "import matplotlib.pyplot as plt\n",
    "from matplotlib.colors import LinearSegmentedColormap\n",
    "from matplotlib.cm import jet"
   ]
  },
  {
   "cell_type": "code",
   "execution_count": 54,
   "id": "a600b4bf-8238-445c-9830-e8669f30b11a",
   "metadata": {},
   "outputs": [
    {
     "data": {
      "text/plain": [
       "<All keys matched successfully>"
      ]
     },
     "execution_count": 54,
     "metadata": {},
     "output_type": "execute_result"
    }
   ],
   "source": [
    "# 初始化模型\n",
    "input_shape = (2,)  # 输入形状\n",
    "output_shape = (3,)\n",
    "model = MLP2(input_shape, output_shape, hidden_layers=[64, 64, 64, 64, 64],activation_function=\"tanh\")\n",
    "\n",
    "# 加载训练好的权重\n",
    "model.load_state_dict(torch.load(\"model/PINN.pth\",weights_only=True))\n"
   ]
  },
  {
   "cell_type": "code",
   "execution_count": 55,
   "id": "7029cc46-4b5d-48ff-a3da-ce4867f7af47",
   "metadata": {},
   "outputs": [],
   "source": [
    "start = 0.05  # 起始位置（0表示最开始）\n",
    "stop = 0.95   # 结束位置（1表示最末尾）\n",
    "colors = jet(np.linspace(start, stop, 256))\n",
    "my_jet = LinearSegmentedColormap.from_list('part_jet', colors)"
   ]
  },
  {
   "cell_type": "code",
   "execution_count": 56,
   "id": "26101337-d443-4dfc-b573-e2ec352acfc6",
   "metadata": {},
   "outputs": [],
   "source": [
    "# 定义网格范围\n",
    "x = torch.linspace(0, 2, 64)  # x 范围从 0 到 2，共 64 个点\n",
    "y = torch.linspace(-0.1, 0.1, 16)  # y 范围从 -0.1 到 0.1，共 16 个点\n",
    "\n",
    "# 使用 meshgrid 创建 2D 网格\n",
    "x_grid, y_grid = torch.meshgrid(x, y, indexing='ij')  # 'ij' 保证顺序为 (x, y)\n",
    "\n",
    "# 将网格展平为一个二维张量 (N, 2)，每一行代表一个 (x, y) 坐标\n",
    "collocation_points = torch.stack([x_grid.flatten(), y_grid.flatten()], dim=1)"
   ]
  },
  {
   "cell_type": "code",
   "execution_count": 57,
   "id": "870ea6df-9531-41c0-aea0-04e6f56c0366",
   "metadata": {},
   "outputs": [],
   "source": [
    "# 将模型设置为评估模式\n",
    "model.eval()\n",
    "with torch.no_grad():  # 关闭梯度计算，因为我们只是进行前向传播\n",
    "    x_collocation, y_collocation = collocation_points[:, 0], collocation_points[:, 1]\n",
    "    result_pred = model(x_collocation, y_collocation)"
   ]
  },
  {
   "cell_type": "code",
   "execution_count": 58,
   "id": "aac6b8c4-c75a-4a61-9578-091145a3c85b",
   "metadata": {},
   "outputs": [],
   "source": [
    "u_pred = result_pred[0].numpy()"
   ]
  },
  {
   "cell_type": "code",
   "execution_count": 59,
   "id": "58c3d21d-d422-4dcf-941e-21ad8169daa4",
   "metadata": {},
   "outputs": [],
   "source": [
    "x = np.linspace(0, 2, 64)\n",
    "y = np.linspace(-0.1, 0.1, 16)\n",
    "xx, yy = np.meshgrid(x, y)"
   ]
  },
  {
   "cell_type": "code",
   "execution_count": 60,
   "id": "ecfff701-ccb1-4a46-aa79-6b4618819065",
   "metadata": {},
   "outputs": [
    {
     "data": {
      "text/plain": [
       "(-0.1, 0.1)"
      ]
     },
     "execution_count": 60,
     "metadata": {},
     "output_type": "execute_result"
    },
    {
     "data": {
      "image/png": "[encoded data removed]",
      "text/plain": [
       "<Figure size 1000x400 with 2 Axes>"
      ]
     },
     "metadata": {},
     "output_type": "display_data"
    }
   ],
   "source": [
    "plt.figure(figsize=(10, 4))\n",
    "\n",
    "c = plt.contourf(xx, yy, u_pred.reshape((64,16)).T, cmap=my_jet, levels=100)\n",
    "plt.colorbar(c)\n",
    "plt.axis('equal')\n",
    "plt.title('Re = 110')\n",
    "\n",
    "ax = plt.gca()\n",
    "ax.spines['top'].set_visible(False)\n",
    "ax.spines['right'].set_visible(False)\n",
    "ax.spines['left'].set_visible(False)\n",
    "ax.spines['bottom'].set_visible(False)\n",
    "# ax.set_xlim([0,0.4])\n",
    "ax.set_ylim([-0.1,0.1])\n",
    "# ax.set_xticks([0, 0.02, 0.04])\n",
    "# ax.set_yticks([0, 0.02, 0.04])\n",
    "# plt.savefig('result/Re110_PINN.png')"
   ]
  },
  {
   "cell_type": "code",
   "execution_count": 61,
   "id": "493e8dce-9a16-4d51-950a-bf81d3b56097",
   "metadata": {},
   "outputs": [
    {
     "data": {
      "text/plain": [
       "5.5895877"
      ]
     },
     "execution_count": 61,
     "metadata": {},
     "output_type": "execute_result"
    }
   ],
   "source": [
    "u_pred.max()"
   ]
  },
  {
   "cell_type": "code",
   "execution_count": null,
   "id": "95af470d-16e6-46ed-b148-8fdb9b39c45e",
   "metadata": {},
   "outputs": [],
   "source": []
  }
 ],
 "metadata": {
  "kernelspec": {
   "display_name": "Python 3 (ipykernel)",
   "language": "python",
   "name": "python3"
  },
  "language_info": {
   "codemirror_mode": {
    "name": "ipython",
    "version": 3
   },
   "file_extension": ".py",
   "mimetype": "text/x-python",
   "name": "python",
   "nbconvert_exporter": "python",
   "pygments_lexer": "ipython3",
   "version": "3.9.20"
  }
 },
 "nbformat": 4,
 "nbformat_minor": 5
}
