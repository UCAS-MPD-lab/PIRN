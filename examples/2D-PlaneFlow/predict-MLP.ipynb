{
 "cells": [
  {
   "cell_type": "code",
   "execution_count": 1,
   "id": "b0ae2bf9-61e8-4c5d-990d-98d6cfd0711a",
   "metadata": {},
   "outputs": [],
   "source": [
    "from Networks.MLP_Dict import MLP_Dict\n",
    "from Trainers import split_data,Trainer\n",
    "import torch\n",
    "import torch.nn as nn\n",
    "import torch.optim as optim\n",
    "import numpy as np\n",
    "import matplotlib.pyplot as plt\n",
    "import joblib\n",
    "import matplotlib.colors as mcolors\n",
    "from matplotlib.colors import LinearSegmentedColormap\n",
    "from matplotlib.cm import jet"
   ]
  },
  {
   "cell_type": "code",
   "execution_count": 23,
   "id": "a600b4bf-8238-445c-9830-e8669f30b11a",
   "metadata": {},
   "outputs": [
    {
     "data": {
      "text/plain": [
       "MLP_Dict(\n",
       "  (network): Sequential(\n",
       "    (0): Linear(in_features=1, out_features=16, bias=True)\n",
       "    (1): Tanh()\n",
       "    (2): Linear(in_features=16, out_features=32, bias=True)\n",
       "    (3): Tanh()\n",
       "    (4): Linear(in_features=32, out_features=128, bias=True)\n",
       "    (5): Tanh()\n",
       "    (6): Linear(in_features=128, out_features=1024, bias=True)\n",
       "  )\n",
       ")"
      ]
     },
     "execution_count": 23,
     "metadata": {},
     "output_type": "execute_result"
    }
   ],
   "source": [
    "# 初始化模型\n",
    "input_shape = (1,)  # 输入形状\n",
    "output_shape = (1024, )\n",
    "\n",
    "model = MLP_Dict(input_shape, output_shape, hidden_layers=[16, 32, 128], activation_function=\"tanh\", output_keys=[\"u\"])\n",
    "\n",
    "# 加载训练好的权重\n",
    "model.load_state_dict(torch.load(\"model/MLP003.pth\", weights_only=True))\n",
    "\n",
    "# 将模型设置为评估模式\n",
    "model.eval()"
   ]
  },
  {
   "cell_type": "code",
   "execution_count": 24,
   "id": "870ea6df-9531-41c0-aea0-04e6f56c0366",
   "metadata": {},
   "outputs": [],
   "source": [
    "# value set\n",
    "input_test = np.array([110])\n",
    "\n",
    "input_test_np = input_test.astype(np.float32)\n",
    "\n",
    "input_test_torch = torch.from_numpy(input_test_np)\n",
    "\n",
    "# 将数据移动到 GPU（如果可用）\n",
    "device = \"cpu\"\n",
    "model = model.to(device)\n",
    "input_test_torch = input_test_torch.to(device)"
   ]
  },
  {
   "cell_type": "code",
   "execution_count": 25,
   "id": "37b8aba5-f059-4abb-87d0-dedd7925266e",
   "metadata": {},
   "outputs": [],
   "source": [
    "# 进行预测\n",
    "with torch.no_grad():\n",
    "    u_pred = model(input_test_torch)\n",
    "\n",
    "u_pred['u'].shape\n",
    "u_pred = u_pred['u'].numpy().reshape((64, 16))\n"
   ]
  },
  {
   "cell_type": "code",
   "execution_count": 26,
   "id": "b6ce8178-b929-401d-8ee2-9e255059aec7",
   "metadata": {},
   "outputs": [],
   "source": [
    "x = np.linspace(0, 2, 64)\n",
    "y = np.linspace(-0.1, 0.1, 16)\n",
    "xx, yy = np.meshgrid(x, y)"
   ]
  },
  {
   "cell_type": "code",
   "execution_count": 27,
   "id": "e38666ee-7817-44a1-8236-f6caa8362376",
   "metadata": {},
   "outputs": [],
   "source": [
    "start = 0.05  # 起始位置（0表示最开始）\n",
    "stop = 0.95   # 结束位置（1表示最末尾）\n",
    "colors = jet(np.linspace(start, stop, 256))\n",
    "my_jet = LinearSegmentedColormap.from_list('part_jet', colors)"
   ]
  },
  {
   "cell_type": "code",
   "execution_count": 31,
   "id": "64b09ddd-c3e7-40ac-b928-934ea99189c7",
   "metadata": {},
   "outputs": [
    {
     "data": {
      "image/png": "[encoded data removed]",
      "text/plain": [
       "<Figure size 1000x400 with 2 Axes>"
      ]
     },
     "metadata": {},
     "output_type": "display_data"
    }
   ],
   "source": [
    "plt.figure(figsize=(10, 4))\n",
    "\n",
    "c = plt.contourf(xx, yy, u_pred.T, cmap=my_jet, levels=100)\n",
    "plt.colorbar(c)\n",
    "plt.axis('equal')\n",
    "plt.title('Re = 110')\n",
    "\n",
    "ax = plt.gca()\n",
    "ax.spines['top'].set_visible(False)\n",
    "ax.spines['right'].set_visible(False)\n",
    "ax.spines['left'].set_visible(False)\n",
    "ax.spines['bottom'].set_visible(False)\n",
    "# ax.set_xlim([0.8,1.2])\n",
    "ax.set_ylim([-0.1,0.1])\n",
    "# ax.set_xticks([0, 0.02, 0.04])\n",
    "# ax.set_yticks([0, 0.02, 0.04])\n",
    "plt.savefig('result/Re110_MLP.png')"
   ]
  },
  {
   "cell_type": "code",
   "execution_count": 30,
   "id": "d9aada86-d2b1-4df3-a47d-6a79d925e6f9",
   "metadata": {},
   "outputs": [
    {
     "data": {
      "text/plain": [
       "8.198546"
      ]
     },
     "execution_count": 30,
     "metadata": {},
     "output_type": "execute_result"
    }
   ],
   "source": [
    "u_pred.max()"
   ]
  },
  {
   "cell_type": "code",
   "execution_count": null,
   "id": "39ac60b3-4432-4345-af56-dd798792d684",
   "metadata": {},
   "outputs": [],
   "source": []
  }
 ],
 "metadata": {
  "kernelspec": {
   "display_name": "Python 3 (ipykernel)",
   "language": "python",
   "name": "python3"
  },
  "language_info": {
   "codemirror_mode": {
    "name": "ipython",
    "version": 3
   },
   "file_extension": ".py",
   "mimetype": "text/x-python",
   "name": "python",
   "nbconvert_exporter": "python",
   "pygments_lexer": "ipython3",
   "version": "3.9.20"
  }
 },
 "nbformat": 4,
 "nbformat_minor": 5
}
