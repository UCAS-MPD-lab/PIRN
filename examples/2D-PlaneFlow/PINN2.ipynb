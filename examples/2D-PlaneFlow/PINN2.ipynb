{
 "cells": [
  {
   "cell_type": "code",
   "execution_count": 1,
   "id": "c0275341-ad74-4af1-bcd5-b189db22d23b",
   "metadata": {},
   "outputs": [],
   "source": [
    "from Networks import MLP2\n",
    "from Trainers import NavierStokes_2D_Trainer\n",
    "import torch\n",
    "import torch.nn as nn\n",
    "import torch.optim as optim\n",
    "import numpy as np"
   ]
  },
  {
   "cell_type": "code",
   "execution_count": 2,
   "id": "c79406ac-697c-4519-9c87-040dca2feb13",
   "metadata": {
    "scrolled": true
   },
   "outputs": [],
   "source": [
    "# 初始化模型\n",
    "input_shape = (2,)  # x,y\n",
    "output_shape = (3,)  # u,v,p\n",
    "\n",
    "model = MLP2(input_shape, output_shape, hidden_layers=[64, 64, 64, 64, 64], activation_function=\"tanh\")"
   ]
  },
  {
   "cell_type": "code",
   "execution_count": 3,
   "id": "7a263d72-94b1-4372-855c-71528f2e046e",
   "metadata": {},
   "outputs": [],
   "source": [
    "nu = 0.01\n",
    "optimizer = optim.Adam(model.parameters(), lr=1e-3)\n",
    "\n",
    "trainer = NavierStokes_2D_Trainer(model, nu, optimizer, lambda_pde=1e-3, device='cuda')"
   ]
  },
  {
   "cell_type": "code",
   "execution_count": 4,
   "id": "506532c5-a927-4bcd-b6f6-203d8a6ff156",
   "metadata": {},
   "outputs": [],
   "source": [
    "# 定义网格范围\n",
    "x = torch.linspace(0, 2, 64)  # x 范围从 0 到 2，共 64 个点\n",
    "y = torch.linspace(-0.1, 0.1, 16)  # y 范围从 -0.1 到 0.1，共 16 个点\n",
    "\n",
    "# 使用 meshgrid 创建 2D 网格\n",
    "x_grid, y_grid = torch.meshgrid(x, y, indexing='ij')  # 'ij' 保证顺序为 (x, y)\n",
    "\n",
    "# 将网格展平为一个二维张量 (N, 2)，每一行代表一个 (x, y) 坐标\n",
    "collocation_points = torch.stack([x_grid.flatten(), y_grid.flatten()], dim=1)\n",
    "\n",
    "# 生成边界点: y=0.1 和 y=-0.1 时的 (x, y) 点\n",
    "boundary_points_upper = torch.stack([x, torch.full_like(x, 0.1)], dim=1)  # y = 0.1\n",
    "boundary_points_lower = torch.stack([x, torch.full_like(x, -0.1)], dim=1)  # y = -0.1\n",
    "\n",
    "# 中心参考值\n",
    "boundary_points_midline = torch.stack([x, torch.full_like(x, 0.0)], dim=1)  # y = 0\n",
    "\n",
    "# 生成入口点：x = 0 时，y = linspace(-0.1, 0.1, 16) 对应的 (x, y) 点\n",
    "boundary_points_inlet = torch.stack([torch.full_like(y, 0.0), y], dim=1)  # x = 0, y 范围\n",
    "\n",
    "# 合并为边界点\n",
    "boundary_points = torch.cat([boundary_points_upper, boundary_points_lower, boundary_points_midline, boundary_points_inlet], dim=0)\n",
    "# 边界条件，u, v 在 y=±0.1 处都为 0；在 x=0 时，u=5.5, v=0, p=None\n",
    "boundary_values_u = torch.zeros_like(boundary_points[:, 0])  # u = 0\n",
    "boundary_values_v = torch.zeros_like(boundary_points[:, 0])  # v = 0\n",
    "boundary_values_u[-80:-16] = 8.25\n",
    "boundary_values_u[-16:] = 5.5\n",
    "boundary_values_u = boundary_values_u.unsqueeze(1)  # 变为 (batch_size, 1)\n",
    "boundary_values_v = boundary_values_v.unsqueeze(1)\n",
    "boundary_values_p = None"
   ]
  },
  {
   "cell_type": "code",
   "execution_count": 5,
   "id": "eebd6a50-3553-4526-be8a-14c633e22722",
   "metadata": {
    "scrolled": true
   },
   "outputs": [
    {
     "data": {
      "application/vnd.jupyter.widget-view+json": {
       "model_id": "7b93415895324d3c99d669b44866c860",
       "version_major": 2,
       "version_minor": 0
      },
      "text/plain": [
       "Training Progress:   0%|          | 0/10000 [00:00<?, ?it/s]"
      ]
     },
     "metadata": {},
     "output_type": "display_data"
    },
    {
     "name": "stderr",
     "output_type": "stream",
     "text": [
      "/home/whw/miniconda3/envs/jupyter_env/lib/python3.9/site-packages/torch/autograd/graph.py:769: UserWarning: Attempting to run cuBLAS, but there was no current CUDA context! Attempting to set the primary context... (Triggered internally at /opt/conda/conda-bld/pytorch_1724789143830/work/aten/src/ATen/cuda/CublasHandlePool.cpp:135.)\n",
      "  return Variable._execution_engine.run_backward(  # Calls into the C++ engine to run the backward pass\n"
     ]
    },
    {
     "name": "stdout",
     "output_type": "stream",
     "text": [
      "Epoch 1/10000, Total Loss: 2.3425e+01 | PDE Loss: 2.7495e-03 | BC Loss: 2.3425e+01\n",
      "Epoch 101/10000, Total Loss: 1.4458e+01 | PDE Loss: 1.9951e-01 | BC Loss: 1.4457e+01\n",
      "Epoch 201/10000, Total Loss: 1.4188e+01 | PDE Loss: 5.1579e+00 | BC Loss: 1.4183e+01\n",
      "Epoch 301/10000, Total Loss: 8.9327e+00 | PDE Loss: 4.3579e+02 | BC Loss: 8.4969e+00\n",
      "Epoch 401/10000, Total Loss: 7.8549e-01 | PDE Loss: 2.5713e+02 | BC Loss: 5.2835e-01\n",
      "Epoch 501/10000, Total Loss: 6.0713e-01 | PDE Loss: 1.9493e+02 | BC Loss: 4.1219e-01\n",
      "Epoch 601/10000, Total Loss: 5.4446e-01 | PDE Loss: 1.9300e+02 | BC Loss: 3.5146e-01\n",
      "Epoch 701/10000, Total Loss: 5.1998e-01 | PDE Loss: 1.8716e+02 | BC Loss: 3.3283e-01\n",
      "Epoch 801/10000, Total Loss: 5.0418e-01 | PDE Loss: 1.8586e+02 | BC Loss: 3.1832e-01\n",
      "Epoch 901/10000, Total Loss: 5.0078e-01 | PDE Loss: 1.8433e+02 | BC Loss: 3.1645e-01\n",
      "Epoch 1001/10000, Total Loss: 4.9773e-01 | PDE Loss: 1.8278e+02 | BC Loss: 3.1496e-01\n",
      "Epoch 1101/10000, Total Loss: 4.7866e-01 | PDE Loss: 1.8450e+02 | BC Loss: 2.9415e-01\n",
      "Epoch 1201/10000, Total Loss: 4.6844e-01 | PDE Loss: 1.7757e+02 | BC Loss: 2.9086e-01\n",
      "Epoch 1301/10000, Total Loss: 4.8930e-01 | PDE Loss: 1.6904e+02 | BC Loss: 3.2027e-01\n",
      "Epoch 1401/10000, Total Loss: 1.3823e+00 | PDE Loss: 8.1050e+02 | BC Loss: 5.7184e-01\n",
      "Epoch 1501/10000, Total Loss: 5.5682e-01 | PDE Loss: 1.8570e+02 | BC Loss: 3.7112e-01\n",
      "Epoch 1601/10000, Total Loss: 4.9450e-01 | PDE Loss: 1.6753e+02 | BC Loss: 3.2697e-01\n",
      "Epoch 1701/10000, Total Loss: 4.5621e-01 | PDE Loss: 1.5000e+02 | BC Loss: 3.0621e-01\n",
      "Epoch 1801/10000, Total Loss: 4.1761e-01 | PDE Loss: 1.2556e+02 | BC Loss: 2.9206e-01\n",
      "Epoch 1901/10000, Total Loss: 3.7385e-01 | PDE Loss: 9.1148e+01 | BC Loss: 2.8270e-01\n",
      "Epoch 2001/10000, Total Loss: 3.4691e-01 | PDE Loss: 7.0391e+01 | BC Loss: 2.7652e-01\n",
      "Epoch 2101/10000, Total Loss: 3.3440e-01 | PDE Loss: 6.4289e+01 | BC Loss: 2.7011e-01\n",
      "Epoch 2201/10000, Total Loss: 3.2741e-01 | PDE Loss: 6.3045e+01 | BC Loss: 2.6436e-01\n",
      "Epoch 2301/10000, Total Loss: 3.2292e-01 | PDE Loss: 6.3132e+01 | BC Loss: 2.5979e-01\n",
      "Epoch 2401/10000, Total Loss: 3.1968e-01 | PDE Loss: 6.3494e+01 | BC Loss: 2.5618e-01\n",
      "Epoch 2501/10000, Total Loss: 3.1712e-01 | PDE Loss: 6.3800e+01 | BC Loss: 2.5331e-01\n",
      "Epoch 2601/10000, Total Loss: 3.1492e-01 | PDE Loss: 6.3940e+01 | BC Loss: 2.5098e-01\n",
      "Epoch 2701/10000, Total Loss: 3.1296e-01 | PDE Loss: 6.3936e+01 | BC Loss: 2.4902e-01\n",
      "Epoch 2801/10000, Total Loss: 5.4663e-01 | PDE Loss: 1.5752e+02 | BC Loss: 3.8911e-01\n",
      "Epoch 2901/10000, Total Loss: 3.0247e-01 | PDE Loss: 4.5419e+01 | BC Loss: 2.5705e-01\n",
      "Epoch 3001/10000, Total Loss: 2.8790e-01 | PDE Loss: 4.7549e+01 | BC Loss: 2.4035e-01\n",
      "Epoch 3101/10000, Total Loss: 2.8187e-01 | PDE Loss: 4.9023e+01 | BC Loss: 2.3285e-01\n"
     ]
    },
    {
     "ename": "KeyboardInterrupt",
     "evalue": "",
     "output_type": "error",
     "traceback": [
      "\u001b[0;31m---------------------------------------------------------------------------\u001b[0m",
      "\u001b[0;31mKeyboardInterrupt\u001b[0m                         Traceback (most recent call last)",
      "Cell \u001b[0;32mIn[5], line 2\u001b[0m\n\u001b[1;32m      1\u001b[0m \u001b[38;5;66;03m# 开始训练\u001b[39;00m\n\u001b[0;32m----> 2\u001b[0m \u001b[43mtrainer\u001b[49m\u001b[38;5;241;43m.\u001b[39;49m\u001b[43mtrain\u001b[49m\u001b[43m(\u001b[49m\u001b[43mcollocation_points\u001b[49m\u001b[43m,\u001b[49m\u001b[43m \u001b[49m\u001b[43mboundary_points\u001b[49m\u001b[43m,\u001b[49m\u001b[43m \u001b[49m\u001b[43mboundary_values_u\u001b[49m\u001b[43m,\u001b[49m\u001b[43m \u001b[49m\u001b[43mboundary_values_v\u001b[49m\u001b[43m,\u001b[49m\u001b[43m \u001b[49m\u001b[43mboundary_values_p\u001b[49m\u001b[43m,\u001b[49m\u001b[43m \u001b[49m\u001b[43mepochs\u001b[49m\u001b[38;5;241;43m=\u001b[39;49m\u001b[38;5;241;43m10000\u001b[39;49m\u001b[43m,\u001b[49m\u001b[43m \u001b[49m\u001b[43msave_path\u001b[49m\u001b[38;5;241;43m=\u001b[39;49m\u001b[38;5;124;43m'\u001b[39;49m\u001b[38;5;124;43mmodel/PINN2.pth\u001b[39;49m\u001b[38;5;124;43m'\u001b[39;49m\u001b[43m)\u001b[49m\n",
      "File \u001b[0;32m~/PythonPrograms/PIRN/source/Trainers/Trainer.py:457\u001b[0m, in \u001b[0;36mNavierStokes_2D_Trainer.train\u001b[0;34m(self, collocation_points, boundary_points, boundary_values_u, boundary_values_v, boundary_values_p, epochs, save_path)\u001b[0m\n\u001b[1;32m    455\u001b[0m loss \u001b[38;5;241m=\u001b[39m \u001b[38;5;28mself\u001b[39m\u001b[38;5;241m.\u001b[39mlambda_pde \u001b[38;5;241m*\u001b[39m pde_loss \u001b[38;5;241m+\u001b[39m bc_loss\n\u001b[1;32m    456\u001b[0m \u001b[38;5;28mself\u001b[39m\u001b[38;5;241m.\u001b[39mloss\u001b[38;5;241m.\u001b[39mappend(loss)\n\u001b[0;32m--> 457\u001b[0m \u001b[43mloss\u001b[49m\u001b[38;5;241;43m.\u001b[39;49m\u001b[43mbackward\u001b[49m\u001b[43m(\u001b[49m\u001b[43m)\u001b[49m\n\u001b[1;32m    458\u001b[0m \u001b[38;5;28mself\u001b[39m\u001b[38;5;241m.\u001b[39moptimizer\u001b[38;5;241m.\u001b[39mstep()\n\u001b[1;32m    460\u001b[0m \u001b[38;5;66;03m# 保存模型\u001b[39;00m\n",
      "File \u001b[0;32m~/miniconda3/envs/jupyter_env/lib/python3.9/site-packages/torch/_tensor.py:521\u001b[0m, in \u001b[0;36mTensor.backward\u001b[0;34m(self, gradient, retain_graph, create_graph, inputs)\u001b[0m\n\u001b[1;32m    511\u001b[0m \u001b[38;5;28;01mif\u001b[39;00m has_torch_function_unary(\u001b[38;5;28mself\u001b[39m):\n\u001b[1;32m    512\u001b[0m     \u001b[38;5;28;01mreturn\u001b[39;00m handle_torch_function(\n\u001b[1;32m    513\u001b[0m         Tensor\u001b[38;5;241m.\u001b[39mbackward,\n\u001b[1;32m    514\u001b[0m         (\u001b[38;5;28mself\u001b[39m,),\n\u001b[0;32m   (...)\u001b[0m\n\u001b[1;32m    519\u001b[0m         inputs\u001b[38;5;241m=\u001b[39minputs,\n\u001b[1;32m    520\u001b[0m     )\n\u001b[0;32m--> 521\u001b[0m \u001b[43mtorch\u001b[49m\u001b[38;5;241;43m.\u001b[39;49m\u001b[43mautograd\u001b[49m\u001b[38;5;241;43m.\u001b[39;49m\u001b[43mbackward\u001b[49m\u001b[43m(\u001b[49m\n\u001b[1;32m    522\u001b[0m \u001b[43m    \u001b[49m\u001b[38;5;28;43mself\u001b[39;49m\u001b[43m,\u001b[49m\u001b[43m \u001b[49m\u001b[43mgradient\u001b[49m\u001b[43m,\u001b[49m\u001b[43m \u001b[49m\u001b[43mretain_graph\u001b[49m\u001b[43m,\u001b[49m\u001b[43m \u001b[49m\u001b[43mcreate_graph\u001b[49m\u001b[43m,\u001b[49m\u001b[43m \u001b[49m\u001b[43minputs\u001b[49m\u001b[38;5;241;43m=\u001b[39;49m\u001b[43minputs\u001b[49m\n\u001b[1;32m    523\u001b[0m \u001b[43m\u001b[49m\u001b[43m)\u001b[49m\n",
      "File \u001b[0;32m~/miniconda3/envs/jupyter_env/lib/python3.9/site-packages/torch/autograd/__init__.py:289\u001b[0m, in \u001b[0;36mbackward\u001b[0;34m(tensors, grad_tensors, retain_graph, create_graph, grad_variables, inputs)\u001b[0m\n\u001b[1;32m    284\u001b[0m     retain_graph \u001b[38;5;241m=\u001b[39m create_graph\n\u001b[1;32m    286\u001b[0m \u001b[38;5;66;03m# The reason we repeat the same comment below is that\u001b[39;00m\n\u001b[1;32m    287\u001b[0m \u001b[38;5;66;03m# some Python versions print out the first line of a multi-line function\u001b[39;00m\n\u001b[1;32m    288\u001b[0m \u001b[38;5;66;03m# calls in the traceback and some print out the last line\u001b[39;00m\n\u001b[0;32m--> 289\u001b[0m \u001b[43m_engine_run_backward\u001b[49m\u001b[43m(\u001b[49m\n\u001b[1;32m    290\u001b[0m \u001b[43m    \u001b[49m\u001b[43mtensors\u001b[49m\u001b[43m,\u001b[49m\n\u001b[1;32m    291\u001b[0m \u001b[43m    \u001b[49m\u001b[43mgrad_tensors_\u001b[49m\u001b[43m,\u001b[49m\n\u001b[1;32m    292\u001b[0m \u001b[43m    \u001b[49m\u001b[43mretain_graph\u001b[49m\u001b[43m,\u001b[49m\n\u001b[1;32m    293\u001b[0m \u001b[43m    \u001b[49m\u001b[43mcreate_graph\u001b[49m\u001b[43m,\u001b[49m\n\u001b[1;32m    294\u001b[0m \u001b[43m    \u001b[49m\u001b[43minputs\u001b[49m\u001b[43m,\u001b[49m\n\u001b[1;32m    295\u001b[0m \u001b[43m    \u001b[49m\u001b[43mallow_unreachable\u001b[49m\u001b[38;5;241;43m=\u001b[39;49m\u001b[38;5;28;43;01mTrue\u001b[39;49;00m\u001b[43m,\u001b[49m\n\u001b[1;32m    296\u001b[0m \u001b[43m    \u001b[49m\u001b[43maccumulate_grad\u001b[49m\u001b[38;5;241;43m=\u001b[39;49m\u001b[38;5;28;43;01mTrue\u001b[39;49;00m\u001b[43m,\u001b[49m\n\u001b[1;32m    297\u001b[0m \u001b[43m\u001b[49m\u001b[43m)\u001b[49m\n",
      "File \u001b[0;32m~/miniconda3/envs/jupyter_env/lib/python3.9/site-packages/torch/autograd/graph.py:769\u001b[0m, in \u001b[0;36m_engine_run_backward\u001b[0;34m(t_outputs, *args, **kwargs)\u001b[0m\n\u001b[1;32m    767\u001b[0m     unregister_hooks \u001b[38;5;241m=\u001b[39m _register_logging_hooks_on_whole_graph(t_outputs)\n\u001b[1;32m    768\u001b[0m \u001b[38;5;28;01mtry\u001b[39;00m:\n\u001b[0;32m--> 769\u001b[0m     \u001b[38;5;28;01mreturn\u001b[39;00m \u001b[43mVariable\u001b[49m\u001b[38;5;241;43m.\u001b[39;49m\u001b[43m_execution_engine\u001b[49m\u001b[38;5;241;43m.\u001b[39;49m\u001b[43mrun_backward\u001b[49m\u001b[43m(\u001b[49m\u001b[43m  \u001b[49m\u001b[38;5;66;43;03m# Calls into the C++ engine to run the backward pass\u001b[39;49;00m\n\u001b[1;32m    770\u001b[0m \u001b[43m        \u001b[49m\u001b[43mt_outputs\u001b[49m\u001b[43m,\u001b[49m\u001b[43m \u001b[49m\u001b[38;5;241;43m*\u001b[39;49m\u001b[43margs\u001b[49m\u001b[43m,\u001b[49m\u001b[43m \u001b[49m\u001b[38;5;241;43m*\u001b[39;49m\u001b[38;5;241;43m*\u001b[39;49m\u001b[43mkwargs\u001b[49m\n\u001b[1;32m    771\u001b[0m \u001b[43m    \u001b[49m\u001b[43m)\u001b[49m  \u001b[38;5;66;03m# Calls into the C++ engine to run the backward pass\u001b[39;00m\n\u001b[1;32m    772\u001b[0m \u001b[38;5;28;01mfinally\u001b[39;00m:\n\u001b[1;32m    773\u001b[0m     \u001b[38;5;28;01mif\u001b[39;00m attach_logging_hooks:\n",
      "\u001b[0;31mKeyboardInterrupt\u001b[0m: "
     ]
    }
   ],
   "source": [
    "# 开始训练\n",
    "trainer.train(collocation_points, boundary_points, boundary_values_u, boundary_values_v, boundary_values_p, epochs=10000, save_path='model/PINN2.pth')"
   ]
  },
  {
   "cell_type": "code",
   "execution_count": null,
   "id": "1ddc1b47-0320-4f56-a10d-87eb401844dc",
   "metadata": {},
   "outputs": [],
   "source": [
    "optimizer = optim.Adam(model.parameters(), lr=1e-4)\n",
    "\n",
    "trainer = NavierStokes_2D_Trainer(model, nu, optimizer, lambda_pde=1e-7, device='cuda')\n",
    "trainer.train(collocation_points, boundary_points, boundary_values_u, boundary_values_v, boundary_values_p, epochs=10000, save_path='model/PINN2.pth')"
   ]
  },
  {
   "cell_type": "code",
   "execution_count": null,
   "id": "f4d5e4ec-2a0c-4ef0-830b-8ae3b315a4c4",
   "metadata": {},
   "outputs": [],
   "source": []
  }
 ],
 "metadata": {
  "kernelspec": {
   "display_name": "Python 3 (ipykernel)",
   "language": "python",
   "name": "python3"
  },
  "language_info": {
   "codemirror_mode": {
    "name": "ipython",
    "version": 3
   },
   "file_extension": ".py",
   "mimetype": "text/x-python",
   "name": "python",
   "nbconvert_exporter": "python",
   "pygments_lexer": "ipython3",
   "version": "3.9.20"
  }
 },
 "nbformat": 4,
 "nbformat_minor": 5
}
