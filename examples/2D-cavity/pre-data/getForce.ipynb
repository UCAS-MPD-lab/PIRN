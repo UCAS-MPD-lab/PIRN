{
 "cells": [
  {
   "cell_type": "code",
   "execution_count": 1,
   "id": "5abc62d5",
   "metadata": {},
   "outputs": [],
   "source": [
    "import numpy as np\n",
    "import joblib"
   ]
  },
  {
   "cell_type": "code",
   "execution_count": 2,
   "id": "9da79024",
   "metadata": {},
   "outputs": [],
   "source": [
    "u = joblib.load('u0_all.joblib')\n",
    "v = joblib.load('u1_all.joblib')"
   ]
  },
  {
   "cell_type": "code",
   "execution_count": 3,
   "id": "2aee19b2",
   "metadata": {},
   "outputs": [],
   "source": [
    "Fv0 = []\n",
    "Fv1 = []\n",
    "for uu in u:\n",
    "    uu = uu.squeeze()\n",
    "    Fv0.append(uu[1:-1, 0:-2] + uu[1:-1, 2:] + uu[0:-2, 1:-1] + uu[2:, 1:-1] - 4 * uu[1:-1, 1:-1])\n",
    "Fv0 = np.array(Fv0)\n",
    "Fv0 = np.reshape(Fv0,(101,62,62,1))\n",
    "for vv in v:\n",
    "    vv = vv.squeeze()\n",
    "    Fv1.append(vv[1:-1, 0:-2] + vv[1:-1, 2:] + vv[0:-2, 1:-1] + vv[2:, 1:-1] - 4 * vv[1:-1, 1:-1])\n",
    "Fv1 = np.array(Fv1)\n",
    "Fv1 = np.reshape(Fv1, (101,62, 62, 1))"
   ]
  },
  {
   "cell_type": "code",
   "execution_count": 4,
   "id": "887c0774",
   "metadata": {},
   "outputs": [
    {
     "data": {
      "text/plain": [
       "['Fv1_all.joblib']"
      ]
     },
     "execution_count": 4,
     "metadata": {},
     "output_type": "execute_result"
    }
   ],
   "source": [
    "joblib.dump(Fv0, 'Fv0_all.joblib')\n",
    "joblib.dump(Fv1, 'Fv1_all.joblib')"
   ]
  },
  {
   "cell_type": "code",
   "execution_count": 5,
   "id": "c49e5290",
   "metadata": {},
   "outputs": [],
   "source": [
    "Fi0 = []\n",
    "Fi1 = []\n",
    "\n",
    "for i in range(101):\n",
    "    uu = u[i].squeeze()\n",
    "    vv = v[i].squeeze()\n",
    "    Fi0.append(uu[0:-1, 0:-1] * (uu[0:-1, 1:] - uu[0:-1, 0:-1]) + vv[0:-1, 0:-1] * (uu[1:, 0:-1] - uu[0:-1, 0:-1]))\n",
    "    Fi1.append(uu[0:-1, 0:-1] * (vv[0:-1, 1:] - vv[0:-1, 0:-1]) + vv[0:-1, 0:-1] * (vv[1:, 0:-1] - vv[0:-1, 0:-1]))\n",
    "Fi0 = np.array(Fi0)\n",
    "Fi1 = np.array(Fi1)\n",
    "Fi0 = np.reshape(Fi0,(101,63,63,1))\n",
    "Fi1 = np.reshape(Fi1,(101,63,63,1))"
   ]
  },
  {
   "cell_type": "code",
   "execution_count": 6,
   "id": "7bdebe99",
   "metadata": {},
   "outputs": [
    {
     "data": {
      "text/plain": [
       "['Fi1_all.joblib']"
      ]
     },
     "execution_count": 6,
     "metadata": {},
     "output_type": "execute_result"
    }
   ],
   "source": [
    "joblib.dump(Fi0, 'Fi0_all.joblib')\n",
    "joblib.dump(Fi1, 'Fi1_all.joblib')"
   ]
  },
  {
   "cell_type": "code",
   "execution_count": null,
   "id": "9b778c98",
   "metadata": {},
   "outputs": [],
   "source": []
  }
 ],
 "metadata": {
  "kernelspec": {
   "display_name": "Python 3 (ipykernel)",
   "language": "python",
   "name": "python3"
  },
  "language_info": {
   "codemirror_mode": {
    "name": "ipython",
    "version": 3
   },
   "file_extension": ".py",
   "mimetype": "text/x-python",
   "name": "python",
   "nbconvert_exporter": "python",
   "pygments_lexer": "ipython3",
   "version": "3.8.10"
  }
 },
 "nbformat": 4,
 "nbformat_minor": 5
}
