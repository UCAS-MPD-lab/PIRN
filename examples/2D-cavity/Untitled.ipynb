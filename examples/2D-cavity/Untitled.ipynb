{
 "cells": [
  {
   "cell_type": "code",
   "execution_count": 1,
   "id": "e082a248-4178-4e54-9958-466f4ca6db5a",
   "metadata": {},
   "outputs": [],
   "source": [
    "import os\n",
    "import joblib\n",
    "import torch\n",
    "import torch.nn as nn\n",
    "import torch.optim as optim\n",
    "import numpy as np\n",
    "import matplotlib.pyplot as plt\n",
    "import glob"
   ]
  },
  {
   "cell_type": "code",
   "execution_count": 2,
   "id": "a6a71a67-bd53-4174-87cc-5e6020a23553",
   "metadata": {},
   "outputs": [
    {
     "name": "stdout",
     "output_type": "stream",
     "text": [
      "Using device: cuda\n"
     ]
    }
   ],
   "source": [
    "# CUDA配置\n",
    "device = torch.device(\"cuda\" if torch.cuda.is_available() else \"cpu\")\n",
    "print(\"Using device:\", device)"
   ]
  },
  {
   "cell_type": "code",
   "execution_count": 3,
   "id": "c4583d8f-e24f-4865-90a2-977d9a3a806b",
   "metadata": {},
   "outputs": [],
   "source": [
    "# 数据加载\n",
    "input_data = joblib.load('pre-data/Re.joblib')\n",
    "true_output_u = joblib.load('pre-data/u0_all.joblib')\n",
    "true_output_v = joblib.load('pre-data/u1_all.joblib')\n",
    "true_output_p = joblib.load('pre-data/p_all.joblib')\n",
    "true_output_Fv0 = joblib.load('pre-data/Fv0_all.joblib')\n",
    "true_output_Fv1 = joblib.load('pre-data/Fv1_all.joblib')\n",
    "true_output_Fi0 = joblib.load('pre-data/Fi0_all.joblib')\n",
    "true_output_Fi1 = joblib.load('pre-data/Fi1_all.joblib')"
   ]
  },
  {
   "cell_type": "code",
   "execution_count": 15,
   "id": "a0a64dd3-1d3a-4b48-b786-7b0edb252c9b",
   "metadata": {},
   "outputs": [],
   "source": [
    "class ResNet2D(nn.Module):\n",
    "    def __init__(self, full_connect_shape, q, N):\n",
    "        super(ResNet2D, self).__init__()\n",
    "        self.q = q\n",
    "        self.N = N\n",
    "        self.C, self.H, self.W, _ = full_connect_shape  # 重新确认维度\n",
    "        \n",
    "        # 确保每个全连接层的维度不会过大\n",
    "        self.fc = nn.Linear(np.prod((1,)), 128)  # 简化fc输出维度，避免过大\n",
    "\n",
    "        # 基本块（BB）和子块（SB）\n",
    "        self.bb_layers = nn.ModuleList()\n",
    "        for _ in range(q):\n",
    "            sb_layers = nn.ModuleList()\n",
    "            for _ in range(N):\n",
    "                sb_layers.append(nn.Conv2d(self.C, self.C, kernel_size=(3, 3), padding=1))\n",
    "                sb_layers.append(nn.LeakyReLU(0.01))\n",
    "            self.bb_layers.append(sb_layers)\n",
    "        \n",
    "        # 输出层\n",
    "        self.final_conv_u = nn.Conv2d(self.C, 1, kernel_size=(3, 3), padding=1)\n",
    "        self.final_conv_v = nn.Conv2d(self.C, 1, kernel_size=(3, 3), padding=1)\n",
    "        self.final_conv_p = nn.Conv2d(self.C, 1, kernel_size=(3, 3), padding=1)\n",
    "\n",
    "        # 定义 Fv0, Fv1, Fi0, Fi1 的卷积层\n",
    "        self.FvLayer = nn.Conv2d(self.C, 1, kernel_size=(3, 3), padding=1, bias=False)\n",
    "        self.FixLayer = nn.Conv2d(self.C, 1, kernel_size=(1, 2), padding=0, bias=False)\n",
    "        self.FiyLayer = nn.Conv2d(self.C, 1, kernel_size=(2, 1), padding=0, bias=False)\n",
    "\n",
    "        # 定义权重\n",
    "        self.init_weights()\n",
    "\n",
    "    def init_weights(self):\n",
    "        with torch.no_grad():\n",
    "            self.FvLayer.weight = nn.Parameter(torch.tensor([[0, 1, 0], [1, -4, 1], [0, 1, 0]], dtype=torch.float32).reshape(1, 1, 3, 3))\n",
    "            self.FixLayer.weight = nn.Parameter(torch.tensor([[-1, 1]], dtype=torch.float32).reshape(1, 1, 1, 2))\n",
    "            self.FiyLayer.weight = nn.Parameter(torch.tensor([[-1], [1]], dtype=torch.float32).reshape(1, 1, 2, 1))\n",
    "\n",
    "    def forward(self, x):\n",
    "        # 全连接层\n",
    "        x = self.fc(x)\n",
    "        \n",
    "        # 打印形状，确认大小\n",
    "        print(f\"Shape before reshaping: {x.shape}\")\n",
    "        \n",
    "        # 动态计算适合的形状\n",
    "        x = x.view(-1, self.C, self.H, self.W)  # 视图调整\n",
    "    \n",
    "        # 基本块\n",
    "        for sb_layers in self.bb_layers:\n",
    "            bb_input = x\n",
    "            for layer in sb_layers:\n",
    "                x = layer(x)\n",
    "            x = (bb_input + x) * 2\n",
    "    \n",
    "        # 输出计算\n",
    "        xu = self.final_conv_u(x)\n",
    "        xv = self.final_conv_v(x)\n",
    "        xp = self.final_conv_p(x)\n",
    "    \n",
    "        Fv0 = self.FvLayer(xu)\n",
    "        Fv1 = self.FvLayer(xv)\n",
    "        ux = self.FixLayer(xu)\n",
    "        uy = self.FiyLayer(xu)\n",
    "        vx = self.FixLayer(xv)\n",
    "        vy = self.FiyLayer(xv)\n",
    "        \n",
    "        Fi0 = (xu[:, :-1, :-1, :] * ux[:, :-1, :, :]) + (xv[:, :-1, :-1, :] * uy[:, :, :-1, :])\n",
    "        Fi1 = (xu[:, :-1, :-1, :] * vx[:, :-1, :, :]) + (xv[:, :-1, :-1, :] * vy[:, :, :-1, :])\n",
    "        \n",
    "        return xu, xv, xp, Fv0, Fv1, Fi0, Fi1"
   ]
  },
  {
   "cell_type": "code",
   "execution_count": 16,
   "id": "d02b1bb0-e5c0-4a52-b5fa-43f2d026a197",
   "metadata": {},
   "outputs": [
    {
     "name": "stdout",
     "output_type": "stream",
     "text": [
      "No existing model found, starting with a new model.\n"
     ]
    }
   ],
   "source": [
    "# 加载已有模型\n",
    "model_path = 'model/model.pth'\n",
    "model = ResNet2D(full_connect_shape=(true_output_u.shape[1], true_output_u.shape[2], 1, 128), q=2, N=3).to(device)\n",
    "if os.path.exists(model_path):\n",
    "    print(f\"Loading existing model from {model_path}\")\n",
    "    model.load_state_dict(torch.load(model_path))\n",
    "else:\n",
    "    print(\"No existing model found, starting with a new model.\")"
   ]
  },
  {
   "cell_type": "code",
   "execution_count": 17,
   "id": "5ad93784-5301-49ef-a98c-c3d9e71f3469",
   "metadata": {},
   "outputs": [],
   "source": [
    "# 定义损失函数和优化器\n",
    "optimizer = optim.Adam(model.parameters(), lr=1e-4)\n",
    "loss_fn = nn.L1Loss()"
   ]
  },
  {
   "cell_type": "code",
   "execution_count": 18,
   "id": "58356670-31e7-420d-ab42-7bb755ddf13e",
   "metadata": {},
   "outputs": [],
   "source": [
    "# 训练步骤\n",
    "def train_step(input_data, true_u, true_v, true_p, true_Fv0, true_Fv1, true_Fi0, true_Fi1, optimizer):\n",
    "    model.train()\n",
    "    optimizer.zero_grad()\n",
    "    \n",
    "    # 转换为张量并送入设备\n",
    "    input_data = torch.tensor(input_data, dtype=torch.float32).to(device)\n",
    "    true_u = torch.tensor(true_u, dtype=torch.float32).to(device)\n",
    "    true_v = torch.tensor(true_v, dtype=torch.float32).to(device)\n",
    "    true_p = torch.tensor(true_p, dtype=torch.float32).to(device)\n",
    "    true_Fv0 = torch.tensor(true_Fv0, dtype=torch.float32).to(device)\n",
    "    true_Fv1 = torch.tensor(true_Fv1, dtype=torch.float32).to(device)\n",
    "    true_Fi0 = torch.tensor(true_Fi0, dtype=torch.float32).to(device)\n",
    "    true_Fi1 = torch.tensor(true_Fi1, dtype=torch.float32).to(device)\n",
    "    \n",
    "    # 获取模型输出\n",
    "    pred_u, pred_v, pred_p, pred_Fv0, pred_Fv1, pred_Fi0, pred_Fi1 = model(input_data)\n",
    "    \n",
    "    # 计算损失\n",
    "    loss_u = loss_fn(pred_u, true_u)\n",
    "    loss_v = loss_fn(pred_v, true_v)\n",
    "    loss_p = loss_fn(pred_p, true_p)\n",
    "    loss_Fv0 = loss_fn(pred_Fv0, true_Fv0)\n",
    "    loss_Fv1 = loss_fn(pred_Fv1, true_Fv1)\n",
    "    loss_Fi0 = loss_fn(pred_Fi0, true_Fi0)\n",
    "    loss_Fi1 = loss_fn(pred_Fi1, true_Fi1)\n",
    "    \n",
    "    # 总损失\n",
    "    loss = loss_u + loss_v + loss_p + loss_Fv0 + loss_Fv1 + loss_Fi0 + loss_Fi1\n",
    "    loss.backward()\n",
    "    optimizer.step()\n",
    "    \n",
    "    return loss.item()"
   ]
  },
  {
   "cell_type": "code",
   "execution_count": 19,
   "id": "31199890-e15b-4fca-97c0-5870306c5061",
   "metadata": {},
   "outputs": [],
   "source": [
    "# 训练模型\n",
    "def train_model(input_data, true_u, true_v, true_p, true_Fv0, true_Fv1, true_Fi0, true_Fi1, batch_size, epochs, optimizer):\n",
    "    loss_record = []\n",
    "    for epoch in range(epochs):\n",
    "        # 打乱数据\n",
    "        num_samples = len(input_data)\n",
    "        indices = np.random.permutation(num_samples)\n",
    "        \n",
    "        # 批处理\n",
    "        for i in range(0, num_samples, batch_size):\n",
    "            batch_indices = indices[i:i+batch_size]\n",
    "            batch_input_data = input_data[batch_indices]\n",
    "            batch_true_u = true_u[batch_indices]\n",
    "            batch_true_v = true_v[batch_indices]\n",
    "            batch_true_p = true_p[batch_indices]\n",
    "            batch_true_Fv0 = true_Fv0[batch_indices]\n",
    "            batch_true_Fv1 = true_Fv1[batch_indices]\n",
    "            batch_true_Fi0 = true_Fi0[batch_indices]\n",
    "            batch_true_Fi1 = true_Fi1[batch_indices]\n",
    "\n",
    "            # 调用训练步骤\n",
    "            loss = train_step(batch_input_data, batch_true_u, batch_true_v, batch_true_p, batch_true_Fv0, batch_true_Fv1, batch_true_Fi0, batch_true_Fi1, optimizer)\n",
    "            loss_record.append(loss)\n",
    "\n",
    "        print(f\"Epoch {epoch+1}/{epochs} - Loss: {loss}\")\n",
    "    \n",
    "    return loss_record\n"
   ]
  },
  {
   "cell_type": "code",
   "execution_count": 20,
   "id": "f0cd9422-0fc2-4e62-8236-ca4f890c1974",
   "metadata": {},
   "outputs": [
    {
     "name": "stdout",
     "output_type": "stream",
     "text": [
      "Shape before reshaping: torch.Size([10, 128])\n"
     ]
    },
    {
     "ename": "RuntimeError",
     "evalue": "shape '[-1, 64, 64, 1]' is invalid for input of size 1280",
     "output_type": "error",
     "traceback": [
      "\u001b[0;31m---------------------------------------------------------------------------\u001b[0m",
      "\u001b[0;31mRuntimeError\u001b[0m                              Traceback (most recent call last)",
      "Cell \u001b[0;32mIn[20], line 1\u001b[0m\n\u001b[0;32m----> 1\u001b[0m loss_info \u001b[38;5;241m=\u001b[39m \u001b[43mtrain_model\u001b[49m\u001b[43m(\u001b[49m\u001b[43minput_data\u001b[49m\u001b[43m,\u001b[49m\u001b[43m \u001b[49m\u001b[43mtrue_output_u\u001b[49m\u001b[43m,\u001b[49m\u001b[43m \u001b[49m\u001b[43mtrue_output_v\u001b[49m\u001b[43m,\u001b[49m\u001b[43m \u001b[49m\u001b[43mtrue_output_p\u001b[49m\u001b[43m,\u001b[49m\u001b[43m \u001b[49m\u001b[43mtrue_output_Fv0\u001b[49m\u001b[43m,\u001b[49m\u001b[43m \u001b[49m\u001b[43mtrue_output_Fv1\u001b[49m\u001b[43m,\u001b[49m\u001b[43m \u001b[49m\u001b[43mtrue_output_Fi0\u001b[49m\u001b[43m,\u001b[49m\u001b[43m \u001b[49m\u001b[43mtrue_output_Fi1\u001b[49m\u001b[43m,\u001b[49m\u001b[43m \u001b[49m\u001b[43mbatch_size\u001b[49m\u001b[38;5;241;43m=\u001b[39;49m\u001b[38;5;241;43m10\u001b[39;49m\u001b[43m,\u001b[49m\u001b[43m \u001b[49m\u001b[43mepochs\u001b[49m\u001b[38;5;241;43m=\u001b[39;49m\u001b[38;5;241;43m2000\u001b[39;49m\u001b[43m,\u001b[49m\u001b[43m \u001b[49m\u001b[43moptimizer\u001b[49m\u001b[38;5;241;43m=\u001b[39;49m\u001b[43moptimizer\u001b[49m\u001b[43m)\u001b[49m\n",
      "Cell \u001b[0;32mIn[19], line 22\u001b[0m, in \u001b[0;36mtrain_model\u001b[0;34m(input_data, true_u, true_v, true_p, true_Fv0, true_Fv1, true_Fi0, true_Fi1, batch_size, epochs, optimizer)\u001b[0m\n\u001b[1;32m     19\u001b[0m     batch_true_Fi1 \u001b[38;5;241m=\u001b[39m true_Fi1[batch_indices]\n\u001b[1;32m     21\u001b[0m     \u001b[38;5;66;03m# 调用训练步骤\u001b[39;00m\n\u001b[0;32m---> 22\u001b[0m     loss \u001b[38;5;241m=\u001b[39m \u001b[43mtrain_step\u001b[49m\u001b[43m(\u001b[49m\u001b[43mbatch_input_data\u001b[49m\u001b[43m,\u001b[49m\u001b[43m \u001b[49m\u001b[43mbatch_true_u\u001b[49m\u001b[43m,\u001b[49m\u001b[43m \u001b[49m\u001b[43mbatch_true_v\u001b[49m\u001b[43m,\u001b[49m\u001b[43m \u001b[49m\u001b[43mbatch_true_p\u001b[49m\u001b[43m,\u001b[49m\u001b[43m \u001b[49m\u001b[43mbatch_true_Fv0\u001b[49m\u001b[43m,\u001b[49m\u001b[43m \u001b[49m\u001b[43mbatch_true_Fv1\u001b[49m\u001b[43m,\u001b[49m\u001b[43m \u001b[49m\u001b[43mbatch_true_Fi0\u001b[49m\u001b[43m,\u001b[49m\u001b[43m \u001b[49m\u001b[43mbatch_true_Fi1\u001b[49m\u001b[43m,\u001b[49m\u001b[43m \u001b[49m\u001b[43moptimizer\u001b[49m\u001b[43m)\u001b[49m\n\u001b[1;32m     23\u001b[0m     loss_record\u001b[38;5;241m.\u001b[39mappend(loss)\n\u001b[1;32m     25\u001b[0m \u001b[38;5;28mprint\u001b[39m(\u001b[38;5;124mf\u001b[39m\u001b[38;5;124m\"\u001b[39m\u001b[38;5;124mEpoch \u001b[39m\u001b[38;5;132;01m{\u001b[39;00mepoch\u001b[38;5;241m+\u001b[39m\u001b[38;5;241m1\u001b[39m\u001b[38;5;132;01m}\u001b[39;00m\u001b[38;5;124m/\u001b[39m\u001b[38;5;132;01m{\u001b[39;00mepochs\u001b[38;5;132;01m}\u001b[39;00m\u001b[38;5;124m - Loss: \u001b[39m\u001b[38;5;132;01m{\u001b[39;00mloss\u001b[38;5;132;01m}\u001b[39;00m\u001b[38;5;124m\"\u001b[39m)\n",
      "Cell \u001b[0;32mIn[18], line 17\u001b[0m, in \u001b[0;36mtrain_step\u001b[0;34m(input_data, true_u, true_v, true_p, true_Fv0, true_Fv1, true_Fi0, true_Fi1, optimizer)\u001b[0m\n\u001b[1;32m     14\u001b[0m true_Fi1 \u001b[38;5;241m=\u001b[39m torch\u001b[38;5;241m.\u001b[39mtensor(true_Fi1, dtype\u001b[38;5;241m=\u001b[39mtorch\u001b[38;5;241m.\u001b[39mfloat32)\u001b[38;5;241m.\u001b[39mto(device)\n\u001b[1;32m     16\u001b[0m \u001b[38;5;66;03m# 获取模型输出\u001b[39;00m\n\u001b[0;32m---> 17\u001b[0m pred_u, pred_v, pred_p, pred_Fv0, pred_Fv1, pred_Fi0, pred_Fi1 \u001b[38;5;241m=\u001b[39m \u001b[43mmodel\u001b[49m\u001b[43m(\u001b[49m\u001b[43minput_data\u001b[49m\u001b[43m)\u001b[49m\n\u001b[1;32m     19\u001b[0m \u001b[38;5;66;03m# 计算损失\u001b[39;00m\n\u001b[1;32m     20\u001b[0m loss_u \u001b[38;5;241m=\u001b[39m loss_fn(pred_u, true_u)\n",
      "File \u001b[0;32m~/miniconda3/envs/jupyter_env/lib/python3.9/site-packages/torch/nn/modules/module.py:1553\u001b[0m, in \u001b[0;36mModule._wrapped_call_impl\u001b[0;34m(self, *args, **kwargs)\u001b[0m\n\u001b[1;32m   1551\u001b[0m     \u001b[38;5;28;01mreturn\u001b[39;00m \u001b[38;5;28mself\u001b[39m\u001b[38;5;241m.\u001b[39m_compiled_call_impl(\u001b[38;5;241m*\u001b[39margs, \u001b[38;5;241m*\u001b[39m\u001b[38;5;241m*\u001b[39mkwargs)  \u001b[38;5;66;03m# type: ignore[misc]\u001b[39;00m\n\u001b[1;32m   1552\u001b[0m \u001b[38;5;28;01melse\u001b[39;00m:\n\u001b[0;32m-> 1553\u001b[0m     \u001b[38;5;28;01mreturn\u001b[39;00m \u001b[38;5;28;43mself\u001b[39;49m\u001b[38;5;241;43m.\u001b[39;49m\u001b[43m_call_impl\u001b[49m\u001b[43m(\u001b[49m\u001b[38;5;241;43m*\u001b[39;49m\u001b[43margs\u001b[49m\u001b[43m,\u001b[49m\u001b[43m \u001b[49m\u001b[38;5;241;43m*\u001b[39;49m\u001b[38;5;241;43m*\u001b[39;49m\u001b[43mkwargs\u001b[49m\u001b[43m)\u001b[49m\n",
      "File \u001b[0;32m~/miniconda3/envs/jupyter_env/lib/python3.9/site-packages/torch/nn/modules/module.py:1562\u001b[0m, in \u001b[0;36mModule._call_impl\u001b[0;34m(self, *args, **kwargs)\u001b[0m\n\u001b[1;32m   1557\u001b[0m \u001b[38;5;66;03m# If we don't have any hooks, we want to skip the rest of the logic in\u001b[39;00m\n\u001b[1;32m   1558\u001b[0m \u001b[38;5;66;03m# this function, and just call forward.\u001b[39;00m\n\u001b[1;32m   1559\u001b[0m \u001b[38;5;28;01mif\u001b[39;00m \u001b[38;5;129;01mnot\u001b[39;00m (\u001b[38;5;28mself\u001b[39m\u001b[38;5;241m.\u001b[39m_backward_hooks \u001b[38;5;129;01mor\u001b[39;00m \u001b[38;5;28mself\u001b[39m\u001b[38;5;241m.\u001b[39m_backward_pre_hooks \u001b[38;5;129;01mor\u001b[39;00m \u001b[38;5;28mself\u001b[39m\u001b[38;5;241m.\u001b[39m_forward_hooks \u001b[38;5;129;01mor\u001b[39;00m \u001b[38;5;28mself\u001b[39m\u001b[38;5;241m.\u001b[39m_forward_pre_hooks\n\u001b[1;32m   1560\u001b[0m         \u001b[38;5;129;01mor\u001b[39;00m _global_backward_pre_hooks \u001b[38;5;129;01mor\u001b[39;00m _global_backward_hooks\n\u001b[1;32m   1561\u001b[0m         \u001b[38;5;129;01mor\u001b[39;00m _global_forward_hooks \u001b[38;5;129;01mor\u001b[39;00m _global_forward_pre_hooks):\n\u001b[0;32m-> 1562\u001b[0m     \u001b[38;5;28;01mreturn\u001b[39;00m \u001b[43mforward_call\u001b[49m\u001b[43m(\u001b[49m\u001b[38;5;241;43m*\u001b[39;49m\u001b[43margs\u001b[49m\u001b[43m,\u001b[49m\u001b[43m \u001b[49m\u001b[38;5;241;43m*\u001b[39;49m\u001b[38;5;241;43m*\u001b[39;49m\u001b[43mkwargs\u001b[49m\u001b[43m)\u001b[49m\n\u001b[1;32m   1564\u001b[0m \u001b[38;5;28;01mtry\u001b[39;00m:\n\u001b[1;32m   1565\u001b[0m     result \u001b[38;5;241m=\u001b[39m \u001b[38;5;28;01mNone\u001b[39;00m\n",
      "Cell \u001b[0;32mIn[15], line 47\u001b[0m, in \u001b[0;36mResNet2D.forward\u001b[0;34m(self, x)\u001b[0m\n\u001b[1;32m     44\u001b[0m \u001b[38;5;28mprint\u001b[39m(\u001b[38;5;124mf\u001b[39m\u001b[38;5;124m\"\u001b[39m\u001b[38;5;124mShape before reshaping: \u001b[39m\u001b[38;5;132;01m{\u001b[39;00mx\u001b[38;5;241m.\u001b[39mshape\u001b[38;5;132;01m}\u001b[39;00m\u001b[38;5;124m\"\u001b[39m)\n\u001b[1;32m     46\u001b[0m \u001b[38;5;66;03m# 动态计算适合的形状\u001b[39;00m\n\u001b[0;32m---> 47\u001b[0m x \u001b[38;5;241m=\u001b[39m \u001b[43mx\u001b[49m\u001b[38;5;241;43m.\u001b[39;49m\u001b[43mview\u001b[49m\u001b[43m(\u001b[49m\u001b[38;5;241;43m-\u001b[39;49m\u001b[38;5;241;43m1\u001b[39;49m\u001b[43m,\u001b[49m\u001b[43m \u001b[49m\u001b[38;5;28;43mself\u001b[39;49m\u001b[38;5;241;43m.\u001b[39;49m\u001b[43mC\u001b[49m\u001b[43m,\u001b[49m\u001b[43m \u001b[49m\u001b[38;5;28;43mself\u001b[39;49m\u001b[38;5;241;43m.\u001b[39;49m\u001b[43mH\u001b[49m\u001b[43m,\u001b[49m\u001b[43m \u001b[49m\u001b[38;5;28;43mself\u001b[39;49m\u001b[38;5;241;43m.\u001b[39;49m\u001b[43mW\u001b[49m\u001b[43m)\u001b[49m  \u001b[38;5;66;03m# 视图调整\u001b[39;00m\n\u001b[1;32m     49\u001b[0m \u001b[38;5;66;03m# 基本块\u001b[39;00m\n\u001b[1;32m     50\u001b[0m \u001b[38;5;28;01mfor\u001b[39;00m sb_layers \u001b[38;5;129;01min\u001b[39;00m \u001b[38;5;28mself\u001b[39m\u001b[38;5;241m.\u001b[39mbb_layers:\n",
      "\u001b[0;31mRuntimeError\u001b[0m: shape '[-1, 64, 64, 1]' is invalid for input of size 1280"
     ]
    }
   ],
   "source": [
    "loss_info = train_model(input_data, true_output_u, true_output_v, true_output_p, true_output_Fv0, true_output_Fv1, true_output_Fi0, true_output_Fi1, batch_size=10, epochs=2000, optimizer=optimizer)"
   ]
  },
  {
   "cell_type": "code",
   "execution_count": null,
   "id": "3d2c062a-951c-4802-8556-699834aed790",
   "metadata": {},
   "outputs": [],
   "source": []
  }
 ],
 "metadata": {
  "kernelspec": {
   "display_name": "Python 3 (ipykernel)",
   "language": "python",
   "name": "python3"
  },
  "language_info": {
   "codemirror_mode": {
    "name": "ipython",
    "version": 3
   },
   "file_extension": ".py",
   "mimetype": "text/x-python",
   "name": "python",
   "nbconvert_exporter": "python",
   "pygments_lexer": "ipython3",
   "version": "3.9.20"
  }
 },
 "nbformat": 4,
 "nbformat_minor": 5
}
