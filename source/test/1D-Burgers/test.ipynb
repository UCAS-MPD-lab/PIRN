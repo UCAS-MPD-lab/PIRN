{
 "cells": [
  {
   "cell_type": "code",
   "execution_count": 9,
   "id": "e69d5b96-8e47-489a-a3ed-6513f0890a74",
   "metadata": {},
   "outputs": [],
   "source": [
    "import torch\n",
    "import torch.nn as nn\n",
    "import torch.nn.functional as F\n",
    "import numpy as np\n",
    "from tqdm import tqdm  # 可选：用于进度条"
   ]
  },
  {
   "cell_type": "code",
   "execution_count": 23,
   "id": "842be759-58c0-49d9-9c61-0e0329e9f132",
   "metadata": {},
   "outputs": [],
   "source": [
    "class ReverseResNet(nn.Module):\n",
    "    def __init__(self, input_shape, full_connect_shape, q, N):\n",
    "        super(ReverseResNet, self).__init__()\n",
    "        self.input_shape = input_shape\n",
    "        self.full_connect_shape = full_connect_shape  # 格式：(C, H, W)\n",
    "        self.q = q\n",
    "        self.N = N\n",
    "\n",
    "        # 从 full_connect_shape 提取通道数 C\n",
    "        self.C, self.H, self.W = full_connect_shape\n",
    "\n",
    "        # 全连接层：将输入扩展到 (C * H * W)\n",
    "        self.fc = nn.Linear(np.prod(input_shape), np.prod(full_connect_shape))\n",
    "\n",
    "        # 创建 q 个 BB\n",
    "        self.bb_layers = nn.ModuleList()\n",
    "        for _ in range(q):\n",
    "            sb_layers = nn.ModuleList()\n",
    "            for _ in range(N):\n",
    "                # 动态设置 in_channels 和 out_channels 为 C\n",
    "                sb_layers.append(nn.Conv2d(self.C, self.C, kernel_size=3, stride=1, padding=1))\n",
    "                sb_layers.append(nn.LeakyReLU(0.01))\n",
    "            self.bb_layers.append(sb_layers)\n",
    "\n",
    "        # 最后一层：输出通道数为 1\n",
    "        self.final_conv = nn.Conv2d(self.C, 1, kernel_size=3, stride=1, padding=1)\n",
    "\n",
    "        # FvLayer：固定权重\n",
    "        self.FvLayer = nn.Conv2d(1, 1, kernel_size=(1, 3), padding=0, bias=False)\n",
    "        self.FvLayer.weight = nn.Parameter(torch.tensor([[[[1, -2, 1]]]], dtype=torch.float32))\n",
    "        self.FvLayer.weight.requires_grad = False\n",
    "\n",
    "    def forward(self, x):\n",
    "        # 全连接层 + Reshape\n",
    "        x = self.fc(x)\n",
    "        x = x.view(-1, self.C, self.H, self.W)  # 调整为 (batch_size, C, H, W)\n",
    "\n",
    "        # 处理每个 BB\n",
    "        for sb_layers in self.bb_layers:\n",
    "            bb_input = x\n",
    "            for layer in sb_layers:\n",
    "                x = layer(x)\n",
    "            x = (bb_input + x) * 2\n",
    "\n",
    "        # 最后一层\n",
    "        u = self.final_conv(x)\n",
    "        Fv = self.FvLayer(u)\n",
    "        return u, Fv"
   ]
  },
  {
   "cell_type": "code",
   "execution_count": 24,
   "id": "c79406ac-697c-4519-9c87-040dca2feb13",
   "metadata": {},
   "outputs": [
    {
     "name": "stdout",
     "output_type": "stream",
     "text": [
      "ReverseResNet(\n",
      "  (fc): Linear(in_features=2, out_features=131072, bias=True)\n",
      "  (bb_layers): ModuleList(\n",
      "    (0-1): 2 x ModuleList(\n",
      "      (0): Conv2d(128, 128, kernel_size=(3, 3), stride=(1, 1), padding=(1, 1))\n",
      "      (1): LeakyReLU(negative_slope=0.01)\n",
      "      (2): Conv2d(128, 128, kernel_size=(3, 3), stride=(1, 1), padding=(1, 1))\n",
      "      (3): LeakyReLU(negative_slope=0.01)\n",
      "      (4): Conv2d(128, 128, kernel_size=(3, 3), stride=(1, 1), padding=(1, 1))\n",
      "      (5): LeakyReLU(negative_slope=0.01)\n",
      "    )\n",
      "  )\n",
      "  (final_conv): Conv2d(128, 1, kernel_size=(3, 3), stride=(1, 1), padding=(1, 1))\n",
      "  (FvLayer): Conv2d(1, 1, kernel_size=(1, 3), stride=(1, 1), bias=False)\n",
      ")\n"
     ]
    }
   ],
   "source": [
    "# 初始化模型\n",
    "input_shape = (2,)  # 输入形状\n",
    "full_connect_shape = (128, 64, 16)  # 全连接层目标形状，根据 true_output0 的形状确定\n",
    "q = 2  # BB 的数量\n",
    "N = 3  # 每个 BB 中 SB 的数量\n",
    "\n",
    "model = ReverseResNet(input_shape, full_connect_shape, q, N)\n",
    "\n",
    "# 打印模型结构\n",
    "print(model)"
   ]
  },
  {
   "cell_type": "code",
   "execution_count": 25,
   "id": "c327a5ef-06a5-4afd-9890-914d1328e975",
   "metadata": {
    "scrolled": true
   },
   "outputs": [
    {
     "name": "stdout",
     "output_type": "stream",
     "text": [
      "输入张量形状: torch.Size([1, 2])\n",
      "输出 u 的形状: torch.Size([1, 1, 64, 16])\n",
      "输出 Fv 的形状: torch.Size([1, 1, 64, 14])\n"
     ]
    }
   ],
   "source": [
    "# 确保模型在评估模式（即使未训练）\n",
    "model.eval()\n",
    "\n",
    "# 构造输入张量 [1]，形状为 (1,)\n",
    "# 注意：PyTorch 的输入需要是浮点型张量，且添加 batch 维度（batch_size=1）\n",
    "input_tensor = torch.tensor([1.0, 2], dtype=torch.float32).unsqueeze(0)  # 形状: (1, 1)\n",
    "\n",
    "# 不计算梯度，直接前向传播\n",
    "with torch.no_grad():\n",
    "    u, Fv = model(input_tensor)\n",
    "\n",
    "# 打印输出\n",
    "print(\"输入张量形状:\", input_tensor.shape)\n",
    "print(\"输出 u 的形状:\", u.shape)\n",
    "print(\"输出 Fv 的形状:\", Fv.shape)\n",
    "# print(\"\\n输出 u 的数值示例:\")\n",
    "# print(u)  # 打印 u 的第一个样本、第一个通道的部分数值\n",
    "# print(\"\\n输出 Fv 的数值示例:\")\n",
    "# print(Fv)  # 打印 Fv 的第一个样本、第一个通道的部分数值"
   ]
  },
  {
   "cell_type": "code",
   "execution_count": 26,
   "id": "3f62570a-7803-4877-ae19-32974f2542a1",
   "metadata": {},
   "outputs": [],
   "source": [
    "class Trainer:\n",
    "    def __init__(self, model, optimizer, criterion_u, criterion_Fv, device=\"cuda\"):\n",
    "        self.model = model.to(device)\n",
    "        self.optimizer = optimizer\n",
    "        self.criterion_u = criterion_u\n",
    "        self.criterion_Fv = criterion_Fv\n",
    "        self.device = device\n",
    "        self.train_losses = []\n",
    "        self.val_losses = []\n",
    "        \n",
    "    def _train_step(self, inputs, targets_u, targets_Fv):\n",
    "        self.model.train()\n",
    "        self.optimizer.zero_grad()\n",
    "        \n",
    "        # 前向传播\n",
    "        preds_u, preds_Fv = self.model(inputs)\n",
    "        \n",
    "        # 计算损失\n",
    "        loss_u = self.criterion_u(preds_u, targets_u)\n",
    "        loss_Fv = self.criterion_Fv(preds_Fv, targets_Fv)\n",
    "        total_loss = loss_u + loss_Fv\n",
    "        \n",
    "        # 反向传播\n",
    "        total_loss.backward()\n",
    "        self.optimizer.step()\n",
    "        \n",
    "        return total_loss.item()\n",
    "    \n",
    "    def _val_step(self, inputs, targets_u, targets_Fv):\n",
    "        self.model.eval()\n",
    "        with torch.no_grad():\n",
    "            preds_u, preds_Fv = self.model(inputs)\n",
    "            loss_u = self.criterion_u(preds_u, targets_u)\n",
    "            loss_Fv = self.criterion_Fv(preds_Fv, targets_Fv)\n",
    "            return (loss_u + loss_Fv).item()\n",
    "    \n",
    "    def fit(self, train_loader, val_loader, num_epochs=50, early_stop_patience=5, save_path=\"best_model.pth\"):\n",
    "        best_val_loss = float('inf')\n",
    "        early_stop_counter = 0\n",
    "        \n",
    "        for epoch in range(num_epochs):\n",
    "            # 训练阶段\n",
    "            train_loss = 0.0\n",
    "            for inputs, (targets_u, targets_Fv) in tqdm(train_loader, desc=f\"Epoch {epoch+1}\"):\n",
    "                inputs = inputs.to(self.device)\n",
    "                targets_u = targets_u.unsqueeze(1).to(self.device)\n",
    "                targets_Fv = targets_Fv.unsqueeze(1).to(self.device)\n",
    "                train_loss += self._train_step(inputs, targets_u, targets_Fv)\n",
    "            \n",
    "            # 验证阶段\n",
    "            val_loss = 0.0\n",
    "            for inputs, (targets_u, targets_Fv) in val_loader:\n",
    "                inputs = inputs.to(self.device)\n",
    "                targets_u = targets_u.unsqueeze(1).to(self.device)\n",
    "                targets_Fv = targets_Fv.unsqueeze(1).to(self.device)\n",
    "                val_loss += self._val_step(inputs, targets_u, targets_Fv)\n",
    "            \n",
    "            # 计算平均损失\n",
    "            train_loss /= len(train_loader)\n",
    "            val_loss /= len(val_loader)\n",
    "            self.train_losses.append(train_loss)\n",
    "            self.val_losses.append(val_loss)\n",
    "            \n",
    "            # 早停和保存模型\n",
    "            if val_loss < best_val_loss:\n",
    "                best_val_loss = val_loss\n",
    "                torch.save(self.model.state_dict(), save_path)\n",
    "                early_stop_counter = 0\n",
    "            else:\n",
    "                early_stop_counter += 1\n",
    "                if early_stop_counter >= early_stop_patience:\n",
    "                    print(f\"Early stopping at epoch {epoch+1}\")\n",
    "                    break\n",
    "            \n",
    "            print(f\"Epoch {epoch+1}/{num_epochs} | \"\n",
    "                  f\"Train Loss: {train_loss:.4f} | Val Loss: {val_loss:.4f}\")\n",
    "    \n",
    "    def plot_loss(self):\n",
    "        import matplotlib.pyplot as plt\n",
    "        plt.figure(figsize=(10, 5))\n",
    "        plt.plot(self.train_losses, label='Train Loss')\n",
    "        plt.plot(self.val_losses, label='Validation Loss')\n",
    "        plt.xlabel('Epoch')\n",
    "        plt.ylabel('Loss')\n",
    "        plt.legend()\n",
    "        plt.show()"
   ]
  },
  {
   "cell_type": "code",
   "execution_count": null,
   "id": "a35eb6dc-2d58-48be-8aaa-5cc9561b6a5e",
   "metadata": {},
   "outputs": [],
   "source": [
    "optimizer = torch.optim.Adam(model.parameters(), lr=1e-4)\n",
    "criterion_u = nn.MSELoss()\n",
    "criterion_Fv = nn.MSELoss()"
   ]
  },
  {
   "cell_type": "code",
   "execution_count": null,
   "id": "f519262d-4ea0-41a7-b797-a7dae5939b84",
   "metadata": {},
   "outputs": [],
   "source": [
    "trainer = Trainer(\n",
    "    model=model,\n",
    "    optimizer=optimizer,\n",
    "    criterion_u=criterion_u,\n",
    "    criterion_Fv=criterion_Fv,\n",
    "    device=\"cuda\"\n",
    ")"
   ]
  },
  {
   "cell_type": "code",
   "execution_count": null,
   "id": "2a2afe8a-d972-49b5-b020-7c7f71b96516",
   "metadata": {},
   "outputs": [],
   "source": [
    "# 假设已有 train_loader 和 val_loader\n",
    "train_loader = DataLoader(...)\n",
    "val_loader = DataLoader(...)"
   ]
  },
  {
   "cell_type": "code",
   "execution_count": null,
   "id": "82c64255-cf4c-482d-9b24-cdbd8c27a170",
   "metadata": {},
   "outputs": [],
   "source": [
    "trainer.fit(\n",
    "    train_loader=train_loader,\n",
    "    val_loader=val_loader,\n",
    "    num_epochs=50,\n",
    "    early_stop_patience=5,\n",
    "    save_path=\"best_model.pth\"\n",
    ")"
   ]
  },
  {
   "cell_type": "code",
   "execution_count": null,
   "id": "6a18c830-3553-4b6c-ae0e-ea475a422af4",
   "metadata": {},
   "outputs": [],
   "source": [
    "trainer.plot_loss()"
   ]
  },
  {
   "cell_type": "code",
   "execution_count": 5,
   "id": "9ec7f0a5-93a0-49e0-92a7-b07780680bd2",
   "metadata": {},
   "outputs": [
    {
     "data": {
      "application/vnd.jupyter.widget-view+json": {
       "model_id": "aa9435b9f8044f6fa6e3ce982b0fb8a8",
       "version_major": 2,
       "version_minor": 0
      },
      "text/plain": [
       "  0%|          | 0/100 [00:00<?, ?it/s]"
      ]
     },
     "metadata": {},
     "output_type": "display_data"
    },
    {
     "name": "stdout",
     "output_type": "stream",
     "text": [
      "Processing step 0\n",
      "Processing step 10\n",
      "Processing step 20\n",
      "Processing step 30\n",
      "Processing step 40\n",
      "Processing step 50\n",
      "Processing step 60\n",
      "Processing step 70\n",
      "Processing step 80\n",
      "Processing step 90\n"
     ]
    }
   ],
   "source": [
    "from tqdm.notebook import tqdm\n",
    "import time\n",
    "\n",
    "# 假设你有一个迭代对象\n",
    "iterable = range(100)\n",
    "\n",
    "# 使用 tqdm 创建进度条\n",
    "for i in tqdm(iterable):\n",
    "    # 模拟一些工作\n",
    "    time.sleep(0.1)\n",
    "    \n",
    "    # 如果你需要打印其他信息，可以使用 tqdm.write\n",
    "    if i % 10 == 0:\n",
    "        tqdm.write(f\"Processing step {i}\")"
   ]
  },
  {
   "cell_type": "code",
   "execution_count": 4,
   "id": "1632fdc9-01a5-4a79-804f-2a1ce9cd5a24",
   "metadata": {},
   "outputs": [
    {
     "name": "stderr",
     "output_type": "stream",
     "text": [
      "  2%|██▏                                                                                                          | 2/100 [00:00<00:10,  9.73it/s]"
     ]
    },
    {
     "name": "stdout",
     "output_type": "stream",
     "text": [
      "Step 0 completed\n"
     ]
    },
    {
     "name": "stderr",
     "output_type": "stream",
     "text": [
      " 12%|████████████▉                                                                                               | 12/100 [00:01<00:09,  9.77it/s]"
     ]
    },
    {
     "name": "stdout",
     "output_type": "stream",
     "text": [
      "Step 10 completed\n"
     ]
    },
    {
     "name": "stderr",
     "output_type": "stream",
     "text": [
      " 22%|███████████████████████▊                                                                                    | 22/100 [00:02<00:07,  9.77it/s]"
     ]
    },
    {
     "name": "stdout",
     "output_type": "stream",
     "text": [
      "Step 20 completed\n"
     ]
    },
    {
     "name": "stderr",
     "output_type": "stream",
     "text": [
      " 32%|██████████████████████████████████▌                                                                         | 32/100 [00:03<00:06,  9.76it/s]"
     ]
    },
    {
     "name": "stdout",
     "output_type": "stream",
     "text": [
      "Step 30 completed\n"
     ]
    },
    {
     "name": "stderr",
     "output_type": "stream",
     "text": [
      " 42%|█████████████████████████████████████████████▎                                                              | 42/100 [00:04<00:05,  9.76it/s]"
     ]
    },
    {
     "name": "stdout",
     "output_type": "stream",
     "text": [
      "Step 40 completed\n"
     ]
    },
    {
     "name": "stderr",
     "output_type": "stream",
     "text": [
      " 52%|████████████████████████████████████████████████████████▏                                                   | 52/100 [00:05<00:04,  9.76it/s]"
     ]
    },
    {
     "name": "stdout",
     "output_type": "stream",
     "text": [
      "Step 50 completed\n"
     ]
    },
    {
     "name": "stderr",
     "output_type": "stream",
     "text": [
      " 62%|██████████████████████████████████████████████████████████████████▉                                         | 62/100 [00:06<00:03,  9.76it/s]"
     ]
    },
    {
     "name": "stdout",
     "output_type": "stream",
     "text": [
      "Step 60 completed\n"
     ]
    },
    {
     "name": "stderr",
     "output_type": "stream",
     "text": [
      " 72%|█████████████████████████████████████████████████████████████████████████████▊                              | 72/100 [00:07<00:02,  9.76it/s]"
     ]
    },
    {
     "name": "stdout",
     "output_type": "stream",
     "text": [
      "Step 70 completed\n"
     ]
    },
    {
     "name": "stderr",
     "output_type": "stream",
     "text": [
      " 82%|████████████████████████████████████████████████████████████████████████████████████████▌                   | 82/100 [00:08<00:01,  9.77it/s]"
     ]
    },
    {
     "name": "stdout",
     "output_type": "stream",
     "text": [
      "Step 80 completed\n"
     ]
    },
    {
     "name": "stderr",
     "output_type": "stream",
     "text": [
      " 92%|███████████████████████████████████████████████████████████████████████████████████████████████████▎        | 92/100 [00:09<00:00,  9.77it/s]"
     ]
    },
    {
     "name": "stdout",
     "output_type": "stream",
     "text": [
      "Step 90 completed\n"
     ]
    },
    {
     "name": "stderr",
     "output_type": "stream",
     "text": [
      "100%|███████████████████████████████████████████████████████████████████████████████████████████████████████████| 100/100 [00:10<00:00,  9.80it/s]\n"
     ]
    }
   ],
   "source": [
    "from tqdm import tqdm\n",
    "import time\n",
    "\n",
    "for i in tqdm(range(100)):\n",
    "    time.sleep(0.1)\n",
    "    if i % 10 == 0:\n",
    "        tqdm.write(f\"Step {i} completed\")"
   ]
  },
  {
   "cell_type": "code",
   "execution_count": null,
   "id": "5b4db619-030a-4307-92f6-76fe6a8d0132",
   "metadata": {},
   "outputs": [],
   "source": []
  }
 ],
 "metadata": {
  "kernelspec": {
   "display_name": "Python 3 (ipykernel)",
   "language": "python",
   "name": "python3"
  },
  "language_info": {
   "codemirror_mode": {
    "name": "ipython",
    "version": 3
   },
   "file_extension": ".py",
   "mimetype": "text/x-python",
   "name": "python",
   "nbconvert_exporter": "python",
   "pygments_lexer": "ipython3",
   "version": "3.9.20"
  }
 },
 "nbformat": 4,
 "nbformat_minor": 5
}
