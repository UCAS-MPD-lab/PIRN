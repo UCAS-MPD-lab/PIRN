{
 "cells": [
  {
   "cell_type": "code",
   "execution_count": 1,
   "id": "b0ae2bf9-61e8-4c5d-990d-98d6cfd0711a",
   "metadata": {},
   "outputs": [],
   "source": [
    "import torch\n",
    "import torch.nn as nn\n",
    "import torch.nn.functional as F\n",
    "import torch.optim as optim\n",
    "import numpy as np\n",
    "import matplotlib.pyplot as plt"
   ]
  },
  {
   "cell_type": "code",
   "execution_count": 2,
   "id": "bb097e86-32d9-4766-89d9-8d7e3fa15ca8",
   "metadata": {},
   "outputs": [],
   "source": [
    "class iResNet(nn.Module):\n",
    "    def __init__(self, input_shape, full_connect_shape, q, N):\n",
    "        super(iResNet, self).__init__()\n",
    "        self.input_shape = input_shape\n",
    "        self.full_connect_shape = full_connect_shape  # 格式：(Channel, H, W)\n",
    "        self.q = q\n",
    "        self.N = N\n",
    "\n",
    "        # 从 full_connect_shape 提取通道数 C\n",
    "        self.C, self.H, self.W = full_connect_shape\n",
    "\n",
    "        # 全连接层：将输入扩展到 (C * H * W)\n",
    "        self.fc = nn.Linear(np.prod(input_shape), np.prod(full_connect_shape))\n",
    "\n",
    "        # 创建 q 个 BB\n",
    "        self.bb_layers = nn.ModuleList()\n",
    "        for _ in range(q):\n",
    "            sb_layers = nn.ModuleList()\n",
    "            for _ in range(N):\n",
    "                # 动态设置 in_channels 和 out_channels 为 C\n",
    "                sb_layers.append(nn.Conv2d(self.C, self.C, kernel_size=(1,3), stride=1, padding=(0,1)))\n",
    "                sb_layers.append(nn.LeakyReLU(0.01))\n",
    "            self.bb_layers.append(sb_layers)\n",
    "\n",
    "        # 最后一层：输出通道数为 1\n",
    "        self.final_conv = nn.Conv2d(self.C, 1, kernel_size=(1,3), stride=1, padding=(0,1))\n",
    "\n",
    "\n",
    "    def forward(self, x):\n",
    "        # 全连接层 + Reshape\n",
    "        x = self.fc(x)\n",
    "        x = x.view(-1, self.C, self.H, self.W)  # 调整为 (batch_size, C, H, W)\n",
    "\n",
    "        # 处理每个 BB\n",
    "        for sb_layers in self.bb_layers:\n",
    "            bb_input = x\n",
    "            for layer in sb_layers:\n",
    "                x = layer(x)\n",
    "            x = (bb_input + x) * 2\n",
    "\n",
    "        # 最后一层\n",
    "        T = self.final_conv(x)\n",
    "        return T"
   ]
  },
  {
   "cell_type": "code",
   "execution_count": 3,
   "id": "a600b4bf-8238-445c-9830-e8669f30b11a",
   "metadata": {
    "scrolled": true
   },
   "outputs": [
    {
     "data": {
      "text/plain": [
       "iResNet(\n",
       "  (fc): Linear(in_features=1, out_features=16384, bias=True)\n",
       "  (bb_layers): ModuleList(\n",
       "    (0-1): 2 x ModuleList(\n",
       "      (0): Conv2d(128, 128, kernel_size=(1, 3), stride=(1, 1), padding=(0, 1))\n",
       "      (1): LeakyReLU(negative_slope=0.01)\n",
       "      (2): Conv2d(128, 128, kernel_size=(1, 3), stride=(1, 1), padding=(0, 1))\n",
       "      (3): LeakyReLU(negative_slope=0.01)\n",
       "      (4): Conv2d(128, 128, kernel_size=(1, 3), stride=(1, 1), padding=(0, 1))\n",
       "      (5): LeakyReLU(negative_slope=0.01)\n",
       "    )\n",
       "  )\n",
       "  (final_conv): Conv2d(128, 1, kernel_size=(1, 3), stride=(1, 1), padding=(0, 1))\n",
       ")"
      ]
     },
     "execution_count": 3,
     "metadata": {},
     "output_type": "execute_result"
    }
   ],
   "source": [
    "# 初始化模型\n",
    "model = iResNet(input_shape=(1,), full_connect_shape=(128, 1, 128), q=2, N=3)\n",
    "\n",
    "# 加载训练好的权重\n",
    "model.load_state_dict(torch.load(\"best_model.pth\", weights_only=True))\n",
    "\n",
    "# 将模型设置为评估模式\n",
    "model.eval()"
   ]
  },
  {
   "cell_type": "code",
   "execution_count": 4,
   "id": "870ea6df-9531-41c0-aea0-04e6f56c0366",
   "metadata": {},
   "outputs": [],
   "source": [
    "# value set\n",
    "u = 1\n",
    "\n",
    "u_test_np = np.array([u]).astype(np.float32)\n",
    "u_test = torch.from_numpy(u_test_np)\n",
    "\n",
    "# 将数据移动到 GPU（如果可用）\n",
    "device = torch.device(\"cuda\" if torch.cuda.is_available() else \"cpu\")\n",
    "model = model.to(device)\n",
    "u_test = u_test.to(device)"
   ]
  },
  {
   "cell_type": "code",
   "execution_count": 5,
   "id": "37b8aba5-f059-4abb-87d0-dedd7925266e",
   "metadata": {},
   "outputs": [],
   "source": [
    "# 进行预测\n",
    "with torch.no_grad():\n",
    "    T_test = model(u_test)\n",
    "\n",
    "# 将预测结果转换回 numpy 数组\n",
    "T_test_np = T_test.cpu().numpy().squeeze()\n"
   ]
  },
  {
   "cell_type": "code",
   "execution_count": 6,
   "id": "4e50ed63-0f60-4f0a-b2dc-821ec3289b38",
   "metadata": {},
   "outputs": [
    {
     "data": {
      "image/png": "[encoded data removed]",
      "text/plain": [
       "<Figure size 640x480 with 1 Axes>"
      ]
     },
     "metadata": {},
     "output_type": "display_data"
    }
   ],
   "source": [
    "alpha = 1\n",
    "\n",
    "x = np.linspace(0, 1, 128)\n",
    "\n",
    "T = np.exp(u/alpha*x)\n",
    "\n",
    "plt.figure(layout='tight')\n",
    "plt.plot(x,T,label='Analytical solution')\n",
    "plt.plot(x,T_test_np,'x',markevery=5, label='PIRN')\n",
    "plt.xlabel('x')\n",
    "plt.ylabel('T')\n",
    "plt.legend()\n",
    "plt.title(f'u={u}')\n",
    "plt.savefig(f'u={u}.png')"
   ]
  },
  {
   "cell_type": "code",
   "execution_count": null,
   "id": "95af470d-16e6-46ed-b148-8fdb9b39c45e",
   "metadata": {},
   "outputs": [],
   "source": []
  }
 ],
 "metadata": {
  "kernelspec": {
   "display_name": "Python 3 (ipykernel)",
   "language": "python",
   "name": "python3"
  },
  "language_info": {
   "codemirror_mode": {
    "name": "ipython",
    "version": 3
   },
   "file_extension": ".py",
   "mimetype": "text/x-python",
   "name": "python",
   "nbconvert_exporter": "python",
   "pygments_lexer": "ipython3",
   "version": "3.9.20"
  }
 },
 "nbformat": 4,
 "nbformat_minor": 5
}
