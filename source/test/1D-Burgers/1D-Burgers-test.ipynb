{
 "cells": [
  {
   "cell_type": "code",
   "execution_count": 2,
   "id": "c0275341-ad74-4af1-bcd5-b189db22d23b",
   "metadata": {},
   "outputs": [],
   "source": [
    "from Networks import iResNet\n",
    "from Trainers import split_data,Trainer\n",
    "import torch\n",
    "import torch.nn as nn\n",
    "import torch.optim as optim\n",
    "import numpy as np\n",
    "import joblib"
   ]
  },
  {
   "cell_type": "code",
   "execution_count": 3,
   "id": "c79406ac-697c-4519-9c87-040dca2feb13",
   "metadata": {
    "scrolled": true
   },
   "outputs": [],
   "source": [
    "# 初始化模型\n",
    "input_shape = (1,)  # 输入形状\n",
    "full_connect_shape = (128, 1, 128)  # 全连接层目标形状，根据 true_output0 的形状确定\n",
    "q = 2  # BB 的数量\n",
    "N = 3  # 每个 BB 中 SB 的数量\n",
    "\n",
    "model = iResNet(input_shape, full_connect_shape, q, N, [\"T\"])\n",
    "\n",
    "# # 打印模型结构\n",
    "# print(model)"
   ]
  },
  {
   "cell_type": "code",
   "execution_count": null,
   "id": "c4cb7162-ac4d-453d-bc1e-fed12a2bd4e1",
   "metadata": {},
   "outputs": [],
   "source": [
    "# 定义损失函数和优化器\n",
    "criterions = {\"T\":nn.MSELoss()}\n",
    "optimizer = optim.Adam(model.parameters(), lr=0.0001)"
   ]
  },
  {
   "cell_type": "code",
   "execution_count": null,
   "id": "b14aeae5-0601-4c75-810d-576868a6354e",
   "metadata": {},
   "outputs": [],
   "source": [
    "# 加载数据\n",
    "u_train_np = joblib.load('u_train').astype(np.float32)\n",
    "T_train_np = joblib.load('T_train').astype(np.float32)\n",
    "\n",
    "u_train = torch.from_numpy(u_train_np).unsqueeze(1)\n",
    "T_train = torch.from_numpy(T_train_np).unsqueeze(1).unsqueeze(1)\n",
    "\n",
    "T_train = {\"T\": T_train}"
   ]
  },
  {
   "cell_type": "code",
   "execution_count": null,
   "id": "a10ba6fa-27e7-469e-94e0-91e593440663",
   "metadata": {
    "scrolled": true
   },
   "outputs": [],
   "source": [
    "# 导入数据\n",
    "train_loader, val_loader = split_data(u_train, T_train, batch_size=50)\n",
    "trainer = Trainer(model, optimizer, criterions, device=\"cuda\")"
   ]
  },
  {
   "cell_type": "code",
   "execution_count": null,
   "id": "f553f496-93d5-4959-82c3-f12287219eba",
   "metadata": {
    "scrolled": true
   },
   "outputs": [],
   "source": [
    "# 训练\n",
    "trainer.fit(train_loader, val_loader, num_epochs=50, early_stop_patience=100, save_path=\"test.pth\")"
   ]
  },
  {
   "cell_type": "code",
   "execution_count": null,
   "id": "a1c92042-f80f-4088-8bed-4417b2a0abd2",
   "metadata": {},
   "outputs": [],
   "source": [
    "# 初始化模型\n",
    "model = iResNet(input_shape, full_connect_shape, q, N, [\"T\"])\n",
    "model.load_state_dict(torch.load(\"test.pth\", weights_only=True))\n",
    "# 将模型移动到设备\n",
    "device = torch.device(\"cuda\" if torch.cuda.is_available() else \"cpu\")\n",
    "model.to(device)"
   ]
  },
  {
   "cell_type": "code",
   "execution_count": null,
   "id": "fc098ba8-ff79-4ab5-b10f-55716c29e29a",
   "metadata": {},
   "outputs": [],
   "source": []
  }
 ],
 "metadata": {
  "kernelspec": {
   "display_name": "Python 3 (ipykernel)",
   "language": "python",
   "name": "python3"
  },
  "language_info": {
   "codemirror_mode": {
    "name": "ipython",
    "version": 3
   },
   "file_extension": ".py",
   "mimetype": "text/x-python",
   "name": "python",
   "nbconvert_exporter": "python",
   "pygments_lexer": "ipython3",
   "version": "3.9.20"
  }
 },
 "nbformat": 4,
 "nbformat_minor": 5
}
