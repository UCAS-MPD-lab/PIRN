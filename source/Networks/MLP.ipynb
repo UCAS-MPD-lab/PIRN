{
 "cells": [
  {
   "cell_type": "code",
   "execution_count": 2,
   "id": "8a6d4c42-66e3-4e96-ac77-760a42dc3fab",
   "metadata": {},
   "outputs": [],
   "source": [
    "import torch\n",
    "import torch.nn as nn"
   ]
  },
  {
   "cell_type": "code",
   "execution_count": 3,
   "id": "1a2ebba6-d51a-4646-96b1-bf840a5c4376",
   "metadata": {},
   "outputs": [],
   "source": [
    "class MLP(nn.Module):\n",
    "    def __init__(self, input_shape, output_shape, hidden_layers=[128, 64, 32], activation_function=\"relu\"):\n",
    "        \"\"\"\n",
    "        初始化 MLP。\n",
    "\n",
    "        参数:\n",
    "        - input_shape: 输入数据的形状。\n",
    "        - output_shape: 输出数据的形状。\n",
    "        - hidden_layers: 隐藏层的神经元数量列表。\n",
    "        - activation_function：激活函数，relu/tanh\n",
    "        \"\"\"\n",
    "        super(MLP, self).__init__()\n",
    "        \n",
    "        # 输入层\n",
    "        layers = []\n",
    "        input_size = input_shape[0]  # 假设 input_shape 是 (input_dim,)\n",
    "        for hidden_size in hidden_layers:\n",
    "            layers.append(nn.Linear(input_size, hidden_size))\n",
    "            if activation_function==\"relu\":\n",
    "                layers.append(nn.ReLU())\n",
    "            elif activation_function == \"tanh\":\n",
    "                layers.append(nn.Tanh())\n",
    "            input_size = hidden_size\n",
    "        \n",
    "        # 输出层\n",
    "        layers.append(nn.Linear(input_size, output_shape[0]))  # 假设 output_shape 是 (output_dim,)\n",
    "        \n",
    "        # 构建网络\n",
    "        self.network = nn.Sequential(*layers)\n",
    "\n",
    "    def forward(self, x):\n",
    "        \"\"\"\n",
    "        前向传播。\n",
    "\n",
    "        参数:\n",
    "        - x: 输入数据。\n",
    "\n",
    "        返回:\n",
    "        - 输出数据。\n",
    "        \"\"\"\n",
    "        return self.network(x)"
   ]
  },
  {
   "cell_type": "code",
   "execution_count": null,
   "id": "b8df3b01-e78f-4064-97a1-e52987a5e0f9",
   "metadata": {},
   "outputs": [],
   "source": []
  }
 ],
 "metadata": {
  "kernelspec": {
   "display_name": "Python 3 (ipykernel)",
   "language": "python",
   "name": "python3"
  },
  "language_info": {
   "codemirror_mode": {
    "name": "ipython",
    "version": 3
   },
   "file_extension": ".py",
   "mimetype": "text/x-python",
   "name": "python",
   "nbconvert_exporter": "python",
   "pygments_lexer": "ipython3",
   "version": "3.9.20"
  }
 },
 "nbformat": 4,
 "nbformat_minor": 5
}
